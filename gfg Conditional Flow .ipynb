{
 "cells": [
  {
   "cell_type": "markdown",
   "id": "b2403d46",
   "metadata": {},
   "source": [
    "# Conditional Flow"
   ]
  },
  {
   "cell_type": "code",
   "execution_count": 1,
   "id": "08cb8f8c",
   "metadata": {},
   "outputs": [],
   "source": [
    "#If-Else Statement"
   ]
  },
  {
   "cell_type": "code",
   "execution_count": 2,
   "id": "bc435868",
   "metadata": {},
   "outputs": [
    {
     "name": "stdout",
     "output_type": "stream",
     "text": [
      "Enter a number: 20\n",
      "n is greater than 5\n"
     ]
    }
   ],
   "source": [
    "n=int(input(\"Enter a number: \"))\n",
    "if(n>5):\n",
    "    print(\"n is greater than 5\")\n",
    "else:\n",
    "    print(\"n is less than 5\")"
   ]
  },
  {
   "cell_type": "code",
   "execution_count": 3,
   "id": "b193c32a",
   "metadata": {},
   "outputs": [
    {
     "name": "stdout",
     "output_type": "stream",
     "text": [
      "Enter a number:20\n",
      "False\n"
     ]
    }
   ],
   "source": [
    "a=int(input(\"Enter a number:\"))\n",
    "print(True) if a<15 else print(False)"
   ]
  },
  {
   "cell_type": "code",
   "execution_count": 4,
   "id": "826c573f",
   "metadata": {},
   "outputs": [],
   "source": [
    "#if-elif-else Statement"
   ]
  },
  {
   "cell_type": "code",
   "execution_count": 8,
   "id": "f282ea6d",
   "metadata": {},
   "outputs": [
    {
     "name": "stdout",
     "output_type": "stream",
     "text": [
      "Enter a number:-47\n",
      "n is a negative number.\n"
     ]
    }
   ],
   "source": [
    "n=int(input(\"Enter a number:\"))\n",
    "if(n>0):\n",
    "    print(\"n is a positive number.\")\n",
    "elif(n==0):\n",
    "    print(\"n is zero.\")\n",
    "else:\n",
    "    print(\"n is a negative number.\")"
   ]
  },
  {
   "cell_type": "code",
   "execution_count": 9,
   "id": "f731f1cb",
   "metadata": {},
   "outputs": [
    {
     "name": "stdout",
     "output_type": "stream",
     "text": [
      "The number is positive and less than 10.\n"
     ]
    }
   ],
   "source": [
    "num = 4\n",
    "if num > 0:\n",
    "    if num < 10:\n",
    "    \tprint(\"The number is positive and less than 10.\")\n",
    "else:\n",
    "    print(\"The number is less than or equal to 0\")\n"
   ]
  },
  {
   "cell_type": "code",
   "execution_count": 12,
   "id": "88148de5",
   "metadata": {},
   "outputs": [
    {
     "name": "stdout",
     "output_type": "stream",
     "text": [
      "Enter a year: 2023\n",
      "2023 is not a leap year.\n"
     ]
    }
   ],
   "source": [
    "# Approach 1 using if-else statement\n",
    "year = int(input(\"Enter a year: \"))\n",
    "\n",
    "# Check if it's a leap year\n",
    "if (year % 4 == 0 and year % 100 != 0) or (year % 400 == 0):\n",
    "    print(f\"{year} is a leap year.\")\n",
    "else:\n",
    "    print(f\"{year} is not a leap year.\")\n"
   ]
  },
  {
   "cell_type": "markdown",
   "id": "8b5d1703",
   "metadata": {},
   "source": [
    "Ques1. Write a program to accept percentage from the user and display the grade accoridng to the following \n",
    "marks                                grade \n",
    ">90                                      A\n",
    "\n",
    ">80 and <=90                             B\n",
    "\n",
    ">=60 and <=80                            C\n",
    "\n",
    "below 60                                 D\n"
   ]
  },
  {
   "cell_type": "code",
   "execution_count": 3,
   "id": "57a3d855",
   "metadata": {},
   "outputs": [
    {
     "name": "stdout",
     "output_type": "stream",
     "text": [
      "Enter your percentage 89\n",
      "Grade B\n"
     ]
    }
   ],
   "source": [
    "per=int(input(\"Enter your percentage\"))\n",
    "if(per>90):\n",
    "    print(\"Grade A\")\n",
    "elif(per>80 and per<=90):\n",
    "    print(\"Grade B\")\n",
    "elif(per>=60 and per<=80):\n",
    "    print(\"Grade C\")\n",
    "else:\n",
    "    print(\"Grade D\")"
   ]
  },
  {
   "cell_type": "markdown",
   "id": "6eb305ed",
   "metadata": {},
   "source": [
    "Write a program to accept a number from 1 to 12 and display name of the month and days in that month like 1 for Janurary and number of days31 and so on \n"
   ]
  },
  {
   "cell_type": "code",
   "execution_count": 7,
   "id": "ba8c1d31",
   "metadata": {},
   "outputs": [
    {
     "name": "stdout",
     "output_type": "stream",
     "text": [
      "Enter a number between 1 to 12:5\n",
      "May\n"
     ]
    }
   ],
   "source": [
    "num=int(input(\"Enter a number between 1 to 12:\"))\n",
    "if(num==1):\n",
    "    print(\"January\")\n",
    "elif(num==2):\n",
    "    print(\"Feburary\")\n",
    "elif(num==3):\n",
    "    print(\"March\")\n",
    "elif(num==4):\n",
    "    print(\"April\")\n",
    "elif(num==5):\n",
    "    print(\"May\")\n",
    "elif(num==6):\n",
    "    print(\"June\")\n",
    "elif(num==7):\n",
    "    print(\"July\")\n",
    "elif(num==8):\n",
    "    print(\"August\")\n",
    "elif(num==9):\n",
    "    print(\"September\")\n",
    "elif(num==10):\n",
    "    print(\"October\")\n",
    "elif(num==11):\n",
    "    print(\"November\")\n",
    "elif(num==12):\n",
    "    print(\"December\")\n",
    "else:\n",
    "    print(\"Invalid Choice\")"
   ]
  },
  {
   "cell_type": "raw",
   "id": "d10b043e",
   "metadata": {},
   "source": [
    "Accept any city from the user and display momument of that city \n",
    "city                                     monument \n",
    "Delhi                                    Red Fort\n",
    "agra                                     Taj Mahal\n",
    "jaipur                                  Jal Mahal"
   ]
  },
  {
   "cell_type": "code",
   "execution_count": 11,
   "id": "e97ca23d",
   "metadata": {},
   "outputs": [
    {
     "name": "stdout",
     "output_type": "stream",
     "text": [
      "Enter the name of the city: lucknow\n",
      "Entered choice is invalid\n"
     ]
    }
   ],
   "source": [
    "city=str(input(\"Enter the name of the city: \"))\n",
    "if(city.lower()==\"delhi\"):\n",
    "    print(\"It's monument is Red Fort\")\n",
    "elif(city.lower()==\"agra\"):\n",
    "    print(\"It's monument is Taj Mahal\")\n",
    "elif(city.lower()==\"jaipur\"):\n",
    "    print(\"It's monument is Jal Mahal\")\n",
    "else:\n",
    "    print(\"Entered choice is invalid\")"
   ]
  },
  {
   "cell_type": "raw",
   "id": "f3311483",
   "metadata": {},
   "source": [
    "Write a program to check whether a number entred by user is even or odd\n"
   ]
  },
  {
   "cell_type": "code",
   "execution_count": 13,
   "id": "f41c129e",
   "metadata": {},
   "outputs": [
    {
     "name": "stdout",
     "output_type": "stream",
     "text": [
      "Enter a number: 33\n",
      "33 is odd\n"
     ]
    }
   ],
   "source": [
    "num=int(input(\"Enter a number: \"))\n",
    "if(num%2==0):\n",
    "    print(num,\"is even\")\n",
    "else:\n",
    "    print(num,\"is odd\")"
   ]
  },
  {
   "cell_type": "markdown",
   "id": "520ed6bc",
   "metadata": {},
   "source": [
    "Write a program to check whether a number is divisible by 7 or not \n"
   ]
  },
  {
   "cell_type": "code",
   "execution_count": 14,
   "id": "cf5039b0",
   "metadata": {},
   "outputs": [
    {
     "name": "stdout",
     "output_type": "stream",
     "text": [
      "Enter a number: 56\n",
      "56 is divisible by 7\n"
     ]
    }
   ],
   "source": [
    "num=int(input(\"Enter a number: \"))\n",
    "if(num%7==0):\n",
    "    print(num,\"is divisible by 7\")\n",
    "else:\n",
    "    print(num,\"is not divisible by 7\")"
   ]
  },
  {
   "cell_type": "raw",
   "id": "ee0d4202",
   "metadata": {},
   "source": [
    "Write a program to display the last digit of a number"
   ]
  },
  {
   "cell_type": "code",
   "execution_count": 15,
   "id": "c6e5bdb9",
   "metadata": {},
   "outputs": [
    {
     "name": "stdout",
     "output_type": "stream",
     "text": [
      "Enter a number344\n",
      "last digit of the number is: 4\n"
     ]
    }
   ],
   "source": [
    "num=int(input(\"Enter a number\"))\n",
    "ld=num%10\n",
    "print(\"last digit of the number is:\",ld)"
   ]
  },
  {
   "cell_type": "raw",
   "id": "83b86881",
   "metadata": {},
   "source": [
    "Write a program to display the last digit of a number is divisible by 3 or not "
   ]
  },
  {
   "cell_type": "code",
   "execution_count": 21,
   "id": "ab404235",
   "metadata": {},
   "outputs": [
    {
     "name": "stdout",
     "output_type": "stream",
     "text": [
      "Enter a number:  345\n",
      "Last digit of 345 is not divisible by 3\n"
     ]
    }
   ],
   "source": [
    "num=int(input(\"Enter a number: \"))\n",
    "ld=num%10\n",
    "if(ld%3==0):\n",
    "    print(\"Last digit of\",num,\"is divisible by 3\")\n",
    "else:\n",
    "    print(\"Last digit of\",num,\"is not divisible by 3\")"
   ]
  },
  {
   "cell_type": "raw",
   "id": "f45d9c0c",
   "metadata": {},
   "source": [
    "Check whether a number entered is three digit or not"
   ]
  },
  {
   "cell_type": "code",
   "execution_count": 25,
   "id": "f78072f9",
   "metadata": {},
   "outputs": [
    {
     "name": "stdout",
     "output_type": "stream",
     "text": [
      "Enter the number: 234\n",
      "number entered is three digit\n"
     ]
    }
   ],
   "source": [
    "num=input(\"Enter the number: \")\n",
    "l=len(num)\n",
    "if(l==3):\n",
    "    print(\"number entered is three digit\")\n",
    "else:\n",
    "    print(\"number entered is not three digit\")"
   ]
  },
  {
   "cell_type": "markdown",
   "id": "a4d10b3e",
   "metadata": {},
   "source": [
    "Accept the age of 4 people and display the youngest one"
   ]
  },
  {
   "cell_type": "code",
   "execution_count": 31,
   "id": "d95b75ad",
   "metadata": {},
   "outputs": [
    {
     "name": "stdout",
     "output_type": "stream",
     "text": [
      "Enter the age of A: 23\n",
      "Enter the age of B: 12\n",
      "Enter the age of C: 5\n",
      "Enter the age of D: 56\n",
      "C is the youngest one.\n"
     ]
    }
   ],
   "source": [
    "a=int(input(\"Enter the age of A: \"))\n",
    "b=int(input(\"Enter the age of B: \"))\n",
    "c=int(input(\"Enter the age of C: \"))\n",
    "d=int(input(\"Enter the age of D: \"))\n",
    "if(a<b and a<c and a<d):\n",
    "    print(\"A is the youngest one.\")\n",
    "elif(b<c and b<d):\n",
    "    print(\"B is the youngest one.\")\n",
    "elif(c<d):\n",
    "    print(\"C is the youngest one.\")\n",
    "else:\n",
    "    print(\"D is the youngest one.\")"
   ]
  },
  {
   "cell_type": "raw",
   "id": "e2f54200",
   "metadata": {},
   "source": [
    "For Loop"
   ]
  },
  {
   "cell_type": "code",
   "execution_count": 37,
   "id": "cb2e0189",
   "metadata": {},
   "outputs": [
    {
     "name": "stdout",
     "output_type": "stream",
     "text": [
      "0\n",
      "1\n",
      "2\n",
      "3\n",
      "4\n",
      "5\n",
      "6\n",
      "7\n",
      "8\n",
      "9\n"
     ]
    }
   ],
   "source": [
    "for i in range(10):\n",
    "    print(i)"
   ]
  },
  {
   "cell_type": "code",
   "execution_count": 47,
   "id": "a290e3d7",
   "metadata": {},
   "outputs": [
    {
     "name": "stdout",
     "output_type": "stream",
     "text": [
      "1 * 10 = 10\n",
      "2 * 10 = 20\n",
      "3 * 10 = 30\n",
      "4 * 10 = 40\n",
      "5 * 10 = 50\n",
      "6 * 10 = 60\n",
      "7 * 10 = 70\n",
      "8 * 10 = 80\n",
      "9 * 10 = 90\n",
      "10 * 10 = 100\n"
     ]
    }
   ],
   "source": [
    "for i in range(1,11):\n",
    "    print(i,'*', n,'=', i*n)"
   ]
  },
  {
   "cell_type": "code",
   "execution_count": 50,
   "id": "75beb770",
   "metadata": {},
   "outputs": [
    {
     "name": "stdout",
     "output_type": "stream",
     "text": [
      "1\n",
      "3\n",
      "5\n",
      "7\n",
      "9\n",
      "11\n",
      "13\n",
      "15\n",
      "17\n",
      "19\n"
     ]
    }
   ],
   "source": [
    "for i in range(1,21,2):\n",
    "    print(i)"
   ]
  },
  {
   "cell_type": "code",
   "execution_count": 51,
   "id": "a5b545d7",
   "metadata": {},
   "outputs": [
    {
     "name": "stdout",
     "output_type": "stream",
     "text": [
      "4\n",
      "8\n",
      "12\n",
      "16\n",
      "20\n",
      "24\n",
      "28\n",
      "32\n",
      "36\n",
      "40\n"
     ]
    }
   ],
   "source": [
    "for i in range(4,41,4):\n",
    "    print(i)"
   ]
  },
  {
   "cell_type": "code",
   "execution_count": 2,
   "id": "68af29da",
   "metadata": {},
   "outputs": [
    {
     "name": "stdout",
     "output_type": "stream",
     "text": [
      "Enter a number: 2\n",
      "2\n",
      "4\n",
      "6\n",
      "8\n",
      "10\n",
      "12\n",
      "14\n",
      "16\n",
      "18\n",
      "20\n"
     ]
    }
   ],
   "source": [
    "n=int(input(\"Enter a number: \"))\n",
    "for i in  range(n,(n*10)+1,n):\n",
    "    print(i)"
   ]
  },
  {
   "cell_type": "code",
   "execution_count": 59,
   "id": "19b14fa7",
   "metadata": {},
   "outputs": [
    {
     "name": "stdout",
     "output_type": "stream",
     "text": [
      "1 1\n",
      "1 2\n",
      "1 3\n",
      "1 4\n",
      "1 5\n",
      "1 6\n",
      "----------\n",
      "2 1\n",
      "2 2\n",
      "2 3\n",
      "2 4\n",
      "2 5\n",
      "2 6\n",
      "----------\n",
      "3 1\n",
      "3 2\n",
      "3 3\n",
      "3 4\n",
      "3 5\n",
      "3 6\n",
      "----------\n",
      "4 1\n",
      "4 2\n",
      "4 3\n",
      "4 4\n",
      "4 5\n",
      "4 6\n",
      "----------\n",
      "5 1\n",
      "5 2\n",
      "5 3\n",
      "5 4\n",
      "5 5\n",
      "5 6\n",
      "----------\n",
      "6 1\n",
      "6 2\n",
      "6 3\n",
      "6 4\n",
      "6 5\n",
      "6 6\n",
      "----------\n"
     ]
    }
   ],
   "source": [
    "for i in range(1,7):\n",
    "    for j in range(1,7):\n",
    "        print(i,j)\n",
    "    print(\"-\"*10)"
   ]
  },
  {
   "cell_type": "code",
   "execution_count": 61,
   "id": "305f10ef",
   "metadata": {},
   "outputs": [
    {
     "name": "stdout",
     "output_type": "stream",
     "text": [
      "1 1 1\n",
      "1 1 2\n",
      "1 1 3\n",
      "1 1 4\n",
      "1 1 5\n",
      "1 1 6\n",
      "1 2 1\n",
      "1 2 2\n",
      "1 2 3\n",
      "1 2 4\n",
      "1 2 5\n",
      "1 2 6\n",
      "1 3 1\n",
      "1 3 2\n",
      "1 3 3\n",
      "1 3 4\n",
      "1 3 5\n",
      "1 3 6\n",
      "1 4 1\n",
      "1 4 2\n",
      "1 4 3\n",
      "1 4 4\n",
      "1 4 5\n",
      "1 4 6\n",
      "1 5 1\n",
      "1 5 2\n",
      "1 5 3\n",
      "1 5 4\n",
      "1 5 5\n",
      "1 5 6\n",
      "1 6 1\n",
      "1 6 2\n",
      "1 6 3\n",
      "1 6 4\n",
      "1 6 5\n",
      "1 6 6\n",
      "--------\n",
      "2 1 1\n",
      "2 1 2\n",
      "2 1 3\n",
      "2 1 4\n",
      "2 1 5\n",
      "2 1 6\n",
      "2 2 1\n",
      "2 2 2\n",
      "2 2 3\n",
      "2 2 4\n",
      "2 2 5\n",
      "2 2 6\n",
      "2 3 1\n",
      "2 3 2\n",
      "2 3 3\n",
      "2 3 4\n",
      "2 3 5\n",
      "2 3 6\n",
      "2 4 1\n",
      "2 4 2\n",
      "2 4 3\n",
      "2 4 4\n",
      "2 4 5\n",
      "2 4 6\n",
      "2 5 1\n",
      "2 5 2\n",
      "2 5 3\n",
      "2 5 4\n",
      "2 5 5\n",
      "2 5 6\n",
      "2 6 1\n",
      "2 6 2\n",
      "2 6 3\n",
      "2 6 4\n",
      "2 6 5\n",
      "2 6 6\n",
      "--------\n",
      "3 1 1\n",
      "3 1 2\n",
      "3 1 3\n",
      "3 1 4\n",
      "3 1 5\n",
      "3 1 6\n",
      "3 2 1\n",
      "3 2 2\n",
      "3 2 3\n",
      "3 2 4\n",
      "3 2 5\n",
      "3 2 6\n",
      "3 3 1\n",
      "3 3 2\n",
      "3 3 3\n",
      "3 3 4\n",
      "3 3 5\n",
      "3 3 6\n",
      "3 4 1\n",
      "3 4 2\n",
      "3 4 3\n",
      "3 4 4\n",
      "3 4 5\n",
      "3 4 6\n",
      "3 5 1\n",
      "3 5 2\n",
      "3 5 3\n",
      "3 5 4\n",
      "3 5 5\n",
      "3 5 6\n",
      "3 6 1\n",
      "3 6 2\n",
      "3 6 3\n",
      "3 6 4\n",
      "3 6 5\n",
      "3 6 6\n",
      "--------\n",
      "4 1 1\n",
      "4 1 2\n",
      "4 1 3\n",
      "4 1 4\n",
      "4 1 5\n",
      "4 1 6\n",
      "4 2 1\n",
      "4 2 2\n",
      "4 2 3\n",
      "4 2 4\n",
      "4 2 5\n",
      "4 2 6\n",
      "4 3 1\n",
      "4 3 2\n",
      "4 3 3\n",
      "4 3 4\n",
      "4 3 5\n",
      "4 3 6\n",
      "4 4 1\n",
      "4 4 2\n",
      "4 4 3\n",
      "4 4 4\n",
      "4 4 5\n",
      "4 4 6\n",
      "4 5 1\n",
      "4 5 2\n",
      "4 5 3\n",
      "4 5 4\n",
      "4 5 5\n",
      "4 5 6\n",
      "4 6 1\n",
      "4 6 2\n",
      "4 6 3\n",
      "4 6 4\n",
      "4 6 5\n",
      "4 6 6\n",
      "--------\n",
      "5 1 1\n",
      "5 1 2\n",
      "5 1 3\n",
      "5 1 4\n",
      "5 1 5\n",
      "5 1 6\n",
      "5 2 1\n",
      "5 2 2\n",
      "5 2 3\n",
      "5 2 4\n",
      "5 2 5\n",
      "5 2 6\n",
      "5 3 1\n",
      "5 3 2\n",
      "5 3 3\n",
      "5 3 4\n",
      "5 3 5\n",
      "5 3 6\n",
      "5 4 1\n",
      "5 4 2\n",
      "5 4 3\n",
      "5 4 4\n",
      "5 4 5\n",
      "5 4 6\n",
      "5 5 1\n",
      "5 5 2\n",
      "5 5 3\n",
      "5 5 4\n",
      "5 5 5\n",
      "5 5 6\n",
      "5 6 1\n",
      "5 6 2\n",
      "5 6 3\n",
      "5 6 4\n",
      "5 6 5\n",
      "5 6 6\n",
      "--------\n",
      "6 1 1\n",
      "6 1 2\n",
      "6 1 3\n",
      "6 1 4\n",
      "6 1 5\n",
      "6 1 6\n",
      "6 2 1\n",
      "6 2 2\n",
      "6 2 3\n",
      "6 2 4\n",
      "6 2 5\n",
      "6 2 6\n",
      "6 3 1\n",
      "6 3 2\n",
      "6 3 3\n",
      "6 3 4\n",
      "6 3 5\n",
      "6 3 6\n",
      "6 4 1\n",
      "6 4 2\n",
      "6 4 3\n",
      "6 4 4\n",
      "6 4 5\n",
      "6 4 6\n",
      "6 5 1\n",
      "6 5 2\n",
      "6 5 3\n",
      "6 5 4\n",
      "6 5 5\n",
      "6 5 6\n",
      "6 6 1\n",
      "6 6 2\n",
      "6 6 3\n",
      "6 6 4\n",
      "6 6 5\n",
      "6 6 6\n",
      "--------\n"
     ]
    }
   ],
   "source": [
    "for i in range(1,7):\n",
    "    for j in range(1,7):\n",
    "        for k in range(1,7):\n",
    "            print(i,j,k)\n",
    "    print(\"--------\")"
   ]
  },
  {
   "cell_type": "code",
   "execution_count": 64,
   "id": "5e5801b5",
   "metadata": {},
   "outputs": [
    {
     "name": "stdout",
     "output_type": "stream",
     "text": [
      "1 4\n",
      "2 3\n",
      "3 2\n",
      "4 1\n",
      "4\n",
      "11.11\n"
     ]
    }
   ],
   "source": [
    "number=0\n",
    "for i in range(1,7):\n",
    "    for j in range(1,7):\n",
    "        if(i+j==5):\n",
    "            number=number+1\n",
    "            print(i,j)\n",
    "            \n",
    "print(number)\n",
    "print(round((number/36)*100,2))"
   ]
  },
  {
   "cell_type": "code",
   "execution_count": 68,
   "id": "4c9d96c5",
   "metadata": {},
   "outputs": [
    {
     "name": "stdout",
     "output_type": "stream",
     "text": [
      "12 2.78\n"
     ]
    }
   ],
   "source": [
    "for n in range(1,13):\n",
    "    number=0\n",
    "    for i in range(1,7):\n",
    "        for j in range(1,7):\n",
    "            if(i+j==n):\n",
    "                number=number+1\n",
    "                \n",
    "print(n, round((number/36)*100,2))"
   ]
  },
  {
   "cell_type": "code",
   "execution_count": 75,
   "id": "2fd9cd13",
   "metadata": {},
   "outputs": [
    {
     "name": "stdout",
     "output_type": "stream",
     "text": [
      "Data\n",
      "Science\n",
      "Python\n"
     ]
    }
   ],
   "source": [
    "l = [\"Data\", \"Science\", \"Python\"]\n",
    "for i in l:\n",
    "    print(i)"
   ]
  },
  {
   "cell_type": "code",
   "execution_count": 76,
   "id": "a7d9a8bb",
   "metadata": {},
   "outputs": [
    {
     "name": "stdout",
     "output_type": "stream",
     "text": [
      "Dictionary Iterations\n",
      "key1 val1\n",
      "key2 345\n"
     ]
    }
   ],
   "source": [
    "print(\"Dictionary Iterations\")\n",
    "d=dict()\n",
    "\n",
    "d['key1']=\"val1\"\n",
    "d['key2']=345\n",
    "for i in d:\n",
    "    print(i,d[i])"
   ]
  },
  {
   "cell_type": "code",
   "execution_count": 77,
   "id": "8f5cb454",
   "metadata": {},
   "outputs": [
    {
     "name": "stdout",
     "output_type": "stream",
     "text": [
      "S\n",
      "n\n",
      "e\n",
      "h\n",
      "a\n"
     ]
    }
   ],
   "source": [
    "word=\"Sneha\"\n",
    "for letter in word:\n",
    "    print(letter)"
   ]
  },
  {
   "cell_type": "code",
   "execution_count": 78,
   "id": "6078686f",
   "metadata": {},
   "outputs": [
    {
     "name": "stdout",
     "output_type": "stream",
     "text": [
      "0 1 2 3 4 "
     ]
    }
   ],
   "source": [
    "for i in range(5):\n",
    "    print(i,end=' ')"
   ]
  },
  {
   "cell_type": "code",
   "execution_count": 7,
   "id": "a92b4470",
   "metadata": {},
   "outputs": [
    {
     "name": "stdout",
     "output_type": "stream",
     "text": [
      "(0,0)\n",
      "(0,1)\n",
      "(1,0)\n",
      "(1,1)\n",
      "(2,0)\n",
      "(2,1)\n"
     ]
    }
   ],
   "source": [
    "for i in range(3):\n",
    "    for j in range(2):\n",
    "        print(f\"({i},{j})\")"
   ]
  },
  {
   "cell_type": "code",
   "execution_count": 81,
   "id": "2ae59e59",
   "metadata": {},
   "outputs": [
    {
     "name": "stdout",
     "output_type": "stream",
     "text": [
      "Index: 0, subj: Data-Science\n",
      "Index: 1, subj: Power BI\n",
      "Index: 2, subj: Python\n"
     ]
    }
   ],
   "source": [
    "list1=[\"Data-Science\", \"Power BI\", \"Python\"]\n",
    "\n",
    "for index, subject in enumerate(list1):\n",
    "    print(f\"Index: {index}, subj: {subject}\")"
   ]
  },
  {
   "cell_type": "code",
   "execution_count": 82,
   "id": "929f12a1",
   "metadata": {},
   "outputs": [
    {
     "name": "stdout",
     "output_type": "stream",
     "text": [
      "[0, 1, 4, 9, 16]\n"
     ]
    }
   ],
   "source": [
    "squares = [x**2 for x in range(5)]\n",
    "print(squares)"
   ]
  },
  {
   "cell_type": "code",
   "execution_count": 83,
   "id": "b4da4572",
   "metadata": {},
   "outputs": [
    {
     "name": "stdout",
     "output_type": "stream",
     "text": [
      "Enter a number: 37\n",
      "37 is not an armstrong number.\n"
     ]
    }
   ],
   "source": [
    "def is_armstrong_number(number):\n",
    "    num_str=str(number)\n",
    "    num_digits=len(num_str)\n",
    "    sum_of_digits=sum(int(digit)**num_digits for digit in num_str)\n",
    "    return sum_of_digits==number\n",
    "\n",
    "#User input\n",
    "num=int(input(\"Enter a number: \"))\n",
    "\n",
    "#check and display the result \n",
    "if is_armstrong_number(num):\n",
    "    print(f\"{num} is an Armstrong number.\")\n",
    "else:\n",
    "    print(f\"{num} is not an armstrong number.\")"
   ]
  },
  {
   "cell_type": "markdown",
   "id": "62fc7a01",
   "metadata": {},
   "source": [
    "While loop"
   ]
  },
  {
   "cell_type": "code",
   "execution_count": 1,
   "id": "9551814f",
   "metadata": {},
   "outputs": [
    {
     "name": "stdout",
     "output_type": "stream",
     "text": [
      "1\n",
      "3\n",
      "6\n",
      "10\n",
      "15\n",
      "21\n",
      "28\n"
     ]
    }
   ],
   "source": [
    "n=30\n",
    "i=1\n",
    "s=1\n",
    "while(n>s):\n",
    "    print(s)\n",
    "    i=i+1\n",
    "    s=s+i"
   ]
  },
  {
   "cell_type": "code",
   "execution_count": 2,
   "id": "692dff6d",
   "metadata": {},
   "outputs": [
    {
     "name": "stdout",
     "output_type": "stream",
     "text": [
      "2 4 "
     ]
    }
   ],
   "source": [
    "#reverse a number \n",
    "counter= 2\n",
    "while counter <= 5:\n",
    "    print(counter, end=' ')\n",
    "    counter += 2"
   ]
  },
  {
   "cell_type": "code",
   "execution_count": 3,
   "id": "10e73247",
   "metadata": {},
   "outputs": [
    {
     "name": "stdout",
     "output_type": "stream",
     "text": [
      "(1, 1) (1, 2) (2, 1) (2, 2) (3, 1) (3, 2) "
     ]
    }
   ],
   "source": [
    "outer_counter = 1\n",
    "while outer_counter <= 3:\n",
    "    inner_counter = 1\n",
    "    while inner_counter <= 2:\n",
    "        print(f\"({outer_counter}, {inner_counter})\", end=' ')\n",
    "        inner_counter += 1\n",
    "    outer_counter += 1\n"
   ]
  },
  {
   "cell_type": "code",
   "execution_count": 4,
   "id": "f5af9dea",
   "metadata": {},
   "outputs": [
    {
     "name": "stdout",
     "output_type": "stream",
     "text": [
      "1 2 4 5 "
     ]
    }
   ],
   "source": [
    "counter = 1\n",
    "while counter <= 5:\n",
    "    if counter == 3:\n",
    "        counter += 1\n",
    "        continue\n",
    "    print(counter, end=' ')\n",
    "    counter += 1\n"
   ]
  },
  {
   "cell_type": "code",
   "execution_count": null,
   "id": "b8e8cb61",
   "metadata": {},
   "outputs": [],
   "source": []
  }
 ],
 "metadata": {
  "kernelspec": {
   "display_name": "Python 3 (ipykernel)",
   "language": "python",
   "name": "python3"
  },
  "language_info": {
   "codemirror_mode": {
    "name": "ipython",
    "version": 3
   },
   "file_extension": ".py",
   "mimetype": "text/x-python",
   "name": "python",
   "nbconvert_exporter": "python",
   "pygments_lexer": "ipython3",
   "version": "3.11.5"
  }
 },
 "nbformat": 4,
 "nbformat_minor": 5
}
