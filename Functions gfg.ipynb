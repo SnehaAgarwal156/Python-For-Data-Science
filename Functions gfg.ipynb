{
 "cells": [
  {
   "cell_type": "code",
   "execution_count": 1,
   "id": "f4af5b9d",
   "metadata": {},
   "outputs": [
    {
     "name": "stdout",
     "output_type": "stream",
     "text": [
      "Hello\n"
     ]
    }
   ],
   "source": [
    "def greet():\n",
    "    print(\"Hello\")\n",
    "greet()"
   ]
  },
  {
   "cell_type": "code",
   "execution_count": 2,
   "id": "fb798f71",
   "metadata": {},
   "outputs": [
    {
     "name": "stdout",
     "output_type": "stream",
     "text": [
      "[0, 1, 2, 3, 4, 5, 6, 7, 8, 9]\n"
     ]
    }
   ],
   "source": [
    "print([i for i in range(10)])"
   ]
  },
  {
   "cell_type": "code",
   "execution_count": 3,
   "id": "cff52f54",
   "metadata": {},
   "outputs": [
    {
     "name": "stdout",
     "output_type": "stream",
     "text": [
      "Hello\n",
      "Hello\n",
      "Hello\n",
      "Hello\n",
      "Hello\n",
      "Hello\n",
      "Hello\n",
      "Hello\n",
      "Hello\n",
      "Hello\n",
      "[None, None, None, None, None, None, None, None, None, None]\n"
     ]
    }
   ],
   "source": [
    "print([greet() for i in range(10)])"
   ]
  },
  {
   "cell_type": "code",
   "execution_count": 4,
   "id": "895b133f",
   "metadata": {},
   "outputs": [
    {
     "name": "stdout",
     "output_type": "stream",
     "text": [
      "Hello\n",
      "Hello\n",
      "Hello\n",
      "Hello\n",
      "Hello\n"
     ]
    }
   ],
   "source": [
    "for i in range(5):\n",
    "    greet()"
   ]
  },
  {
   "cell_type": "code",
   "execution_count": 5,
   "id": "22f7b812",
   "metadata": {},
   "outputs": [
    {
     "name": "stdout",
     "output_type": "stream",
     "text": [
      "Hi\n",
      "Hi\n",
      "Hi\n",
      "Hi\n",
      "Hi\n"
     ]
    }
   ],
   "source": [
    "def greet():\n",
    "    print('Hi')\n",
    "for i in range(5):\n",
    "    greet()"
   ]
  },
  {
   "cell_type": "code",
   "execution_count": 6,
   "id": "6ab7d560",
   "metadata": {},
   "outputs": [
    {
     "name": "stdout",
     "output_type": "stream",
     "text": [
      "10 5\n"
     ]
    }
   ],
   "source": [
    "#Defining the Scope of the Variables\n",
    "g_var=10\n",
    "def scope():\n",
    "    l_var=5\n",
    "    print(g_var,l_var)\n",
    "scope()\n"
   ]
  },
  {
   "cell_type": "code",
   "execution_count": 7,
   "id": "b4d6c217",
   "metadata": {},
   "outputs": [
    {
     "name": "stdout",
     "output_type": "stream",
     "text": [
      "Hello Sneha\n"
     ]
    }
   ],
   "source": [
    "#Passing the parameter\n",
    "def greet(n):\n",
    "    print('Hello',n)\n",
    "greet('Sneha')"
   ]
  },
  {
   "cell_type": "code",
   "execution_count": 8,
   "id": "b44e9201",
   "metadata": {},
   "outputs": [
    {
     "name": "stdout",
     "output_type": "stream",
     "text": [
      "Hello Sneha\n"
     ]
    }
   ],
   "source": [
    " #Passing the parameter\n",
    "def greet(name):\n",
    "    print('Hello',name)\n",
    "greet(name='Sneha')"
   ]
  },
  {
   "cell_type": "code",
   "execution_count": 9,
   "id": "ff28b58d",
   "metadata": {},
   "outputs": [
    {
     "name": "stdout",
     "output_type": "stream",
     "text": [
      "5 10 15\n",
      "----------\n",
      "0 0 0\n",
      "----------\n",
      "5 0 5\n",
      "----------\n",
      "0 5 5\n"
     ]
    }
   ],
   "source": [
    "def subm(a=0,b=0):\n",
    "    print(a,b,a+b)\n",
    "subm(5,10)\n",
    "print('----------')\n",
    "subm()\n",
    "print('----------')\n",
    "subm(5)\n",
    "print('----------')\n",
    "subm(b=5)"
   ]
  },
  {
   "cell_type": "code",
   "execution_count": 10,
   "id": "50e78cf7",
   "metadata": {},
   "outputs": [
    {
     "name": "stdout",
     "output_type": "stream",
     "text": [
      "15\n"
     ]
    }
   ],
   "source": [
    "#Return\n",
    "def subm(a=0,b=0):\n",
    "    return a+b    \n",
    "s=subm(10,5)\n",
    "print(s)"
   ]
  },
  {
   "cell_type": "code",
   "execution_count": 11,
   "id": "4f0458d0",
   "metadata": {},
   "outputs": [
    {
     "name": "stdout",
     "output_type": "stream",
     "text": [
      "(15, 5, 50)\n",
      "<class 'tuple'>\n"
     ]
    }
   ],
   "source": [
    "#Multi-Return\n",
    "def arithmetic(a=0,b=0):\n",
    "    return a+b, a-b, a*b  \n",
    "s=arithmetic(10,5)\n",
    "print(s)\n",
    "print(type(s))"
   ]
  },
  {
   "cell_type": "code",
   "execution_count": 23,
   "id": "3c39a4b4",
   "metadata": {},
   "outputs": [
    {
     "name": "stdout",
     "output_type": "stream",
     "text": [
      "[2, 4, 6, 8, 10]\n",
      "[3, 6, 9, 12, 15]\n",
      "[5, 10, 15, 20, 25]\n"
     ]
    }
   ],
   "source": [
    "# Calling Different Functions\n",
    "lst=[1,2,3,4,5]\n",
    "def sq(lst):\n",
    "    return[i*2 for i in lst]\n",
    "def cu(lst):\n",
    "    return[i*3 for i in lst]\n",
    "def final(lst):\n",
    "    lst1=sq(lst)\n",
    "    lst2=cu(lst)\n",
    "    \n",
    "    return [lst1[i]+lst2[i] for i in range(len(lst1))]\n",
    "\n",
    "print(sq(lst))\n",
    "print(cu(lst))\n",
    "print(final(lst))\n"
   ]
  },
  {
   "cell_type": "code",
   "execution_count": 24,
   "id": "44722bb3",
   "metadata": {},
   "outputs": [],
   "source": [
    "#Creating a function to calculate the area of circle "
   ]
  },
  {
   "cell_type": "code",
   "execution_count": 26,
   "id": "650e914a",
   "metadata": {},
   "outputs": [
    {
     "name": "stdout",
     "output_type": "stream",
     "text": [
      "78.5\n"
     ]
    }
   ],
   "source": [
    "def calculated_area(radius):\n",
    "    area=3.14*radius**2\n",
    "    return area\n",
    "\n",
    "circle_area=calculated_area(5)\n",
    "print(circle_area)"
   ]
  },
  {
   "cell_type": "code",
   "execution_count": null,
   "id": "b722a916",
   "metadata": {},
   "outputs": [],
   "source": []
  }
 ],
 "metadata": {
  "kernelspec": {
   "display_name": "Python 3 (ipykernel)",
   "language": "python",
   "name": "python3"
  },
  "language_info": {
   "codemirror_mode": {
    "name": "ipython",
    "version": 3
   },
   "file_extension": ".py",
   "mimetype": "text/x-python",
   "name": "python",
   "nbconvert_exporter": "python",
   "pygments_lexer": "ipython3",
   "version": "3.11.5"
  }
 },
 "nbformat": 4,
 "nbformat_minor": 5
}
