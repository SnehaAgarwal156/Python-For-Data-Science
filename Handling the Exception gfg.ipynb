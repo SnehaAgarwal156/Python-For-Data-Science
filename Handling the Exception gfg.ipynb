{
 "cells": [
  {
   "cell_type": "code",
   "execution_count": 1,
   "id": "49dea8cc",
   "metadata": {},
   "outputs": [
    {
     "ename": "ZeroDivisionError",
     "evalue": "division by zero",
     "output_type": "error",
     "traceback": [
      "\u001b[1;31m---------------------------------------------------------------------------\u001b[0m",
      "\u001b[1;31mZeroDivisionError\u001b[0m                         Traceback (most recent call last)",
      "Cell \u001b[1;32mIn[1], line 2\u001b[0m\n\u001b[0;32m      1\u001b[0m x\u001b[38;5;241m=\u001b[39m\u001b[38;5;241m10\u001b[39m\n\u001b[1;32m----> 2\u001b[0m \u001b[38;5;28mprint\u001b[39m(\u001b[43mx\u001b[49m\u001b[38;5;241;43m/\u001b[39;49m\u001b[38;5;241;43m0\u001b[39;49m)\n",
      "\u001b[1;31mZeroDivisionError\u001b[0m: division by zero"
     ]
    }
   ],
   "source": [
    "x=10\n",
    "print(x/0)"
   ]
  },
  {
   "cell_type": "code",
   "execution_count": 2,
   "id": "da59abb1",
   "metadata": {},
   "outputs": [],
   "source": [
    "# try and except is only used for exception handling"
   ]
  },
  {
   "cell_type": "code",
   "execution_count": 3,
   "id": "d09848e2",
   "metadata": {},
   "outputs": [
    {
     "name": "stdout",
     "output_type": "stream",
     "text": [
      "1\n",
      "Error Occured\n"
     ]
    }
   ],
   "source": [
    "try:\n",
    "    x=10\n",
    "    print(1)\n",
    "    print(x/0)\n",
    "    print(2)\n",
    "except:\n",
    "    print(\"Error Occured\")"
   ]
  },
  {
   "cell_type": "code",
   "execution_count": 4,
   "id": "f085e611",
   "metadata": {},
   "outputs": [],
   "source": [
    "#Exception with specific errors"
   ]
  },
  {
   "cell_type": "code",
   "execution_count": 5,
   "id": "5d067b3e",
   "metadata": {},
   "outputs": [
    {
     "name": "stdout",
     "output_type": "stream",
     "text": [
      "Zero is in the divisior\n"
     ]
    }
   ],
   "source": [
    "try:\n",
    "    num=0\n",
    "    print(num/0)\n",
    "except ZeroDivisionError:\n",
    "    print('Zero is in the divisior')\n",
    "    \n",
    "except:\n",
    "    print('Unknown Error')"
   ]
  },
  {
   "cell_type": "code",
   "execution_count": 6,
   "id": "9272f1a8",
   "metadata": {},
   "outputs": [
    {
     "name": "stdout",
     "output_type": "stream",
     "text": [
      "0\n"
     ]
    }
   ],
   "source": [
    "try:\n",
    "    num=0\n",
    "    print(num*0)\n",
    "except ZeroDivisionError:\n",
    "    print('Zero is in the divisior')\n",
    "    \n",
    "except:\n",
    "    print('Unknown Error')"
   ]
  },
  {
   "cell_type": "code",
   "execution_count": 9,
   "id": "002f0699",
   "metadata": {},
   "outputs": [
    {
     "name": "stdout",
     "output_type": "stream",
     "text": [
      "Unknown Error\n"
     ]
    }
   ],
   "source": [
    "try:\n",
    "    num=0\n",
    "    print('e23'*'0.5')\n",
    "except ZeroDivisionError:\n",
    "    print('Zero is in the divisior')\n",
    "    \n",
    "except:\n",
    "    print('Unknown Error')"
   ]
  },
  {
   "cell_type": "raw",
   "id": "9b042f65",
   "metadata": {},
   "source": [
    "try:\n",
    "except.......:\n",
    "except:\n",
    "else:          only if try part is working \n",
    "finally: finally will always print whether its giving error or not"
   ]
  },
  {
   "cell_type": "code",
   "execution_count": 10,
   "id": "cd15d14f",
   "metadata": {},
   "outputs": [
    {
     "name": "stdout",
     "output_type": "stream",
     "text": [
      "2.0\n",
      "Everything is fine!\n",
      "Program End!\n"
     ]
    }
   ],
   "source": [
    "try:\n",
    "    num1,num2=10,5\n",
    "    print(num1/num2)\n",
    "except ZeroDivisionError as zde:\n",
    "    print(zde)\n",
    "\n",
    "except Exception as e:\n",
    "    print(e)\n",
    "\n",
    "else:\n",
    "    print('Everything is fine!')\n",
    "\n",
    "finally:\n",
    "    print('Program End!')"
   ]
  },
  {
   "cell_type": "code",
   "execution_count": 11,
   "id": "d0ae65d8",
   "metadata": {},
   "outputs": [
    {
     "name": "stdout",
     "output_type": "stream",
     "text": [
      "division by zero\n",
      "Program End!\n"
     ]
    }
   ],
   "source": [
    "try:\n",
    "    num1,num2=10,0\n",
    "    print(num1/num2)\n",
    "except ZeroDivisionError as zde:\n",
    "    print(zde)\n",
    "\n",
    "except Exception as e:\n",
    "    print(e)\n",
    "\n",
    "else:\n",
    "    print('Everything is fine!')\n",
    "\n",
    "finally:\n",
    "    print('Program End!')"
   ]
  },
  {
   "cell_type": "code",
   "execution_count": null,
   "id": "6af7aee4",
   "metadata": {},
   "outputs": [],
   "source": []
  }
 ],
 "metadata": {
  "kernelspec": {
   "display_name": "Python 3 (ipykernel)",
   "language": "python",
   "name": "python3"
  },
  "language_info": {
   "codemirror_mode": {
    "name": "ipython",
    "version": 3
   },
   "file_extension": ".py",
   "mimetype": "text/x-python",
   "name": "python",
   "nbconvert_exporter": "python",
   "pygments_lexer": "ipython3",
   "version": "3.11.5"
  }
 },
 "nbformat": 4,
 "nbformat_minor": 5
}
