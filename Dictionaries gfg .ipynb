{
 "cells": [
  {
   "cell_type": "code",
   "execution_count": 27,
   "id": "0ec3dcb6",
   "metadata": {},
   "outputs": [
    {
     "data": {
      "text/plain": [
       "{1: 'Sneha', 2: 'Shivang'}"
      ]
     },
     "execution_count": 27,
     "metadata": {},
     "output_type": "execute_result"
    }
   ],
   "source": [
    "D1={1:'Sneha',2:'Shivang'}\n",
    "D1"
   ]
  },
  {
   "cell_type": "code",
   "execution_count": 28,
   "id": "666cd6f5",
   "metadata": {},
   "outputs": [
    {
     "name": "stdout",
     "output_type": "stream",
     "text": [
      "{1: 'Sneha', 2: 'Shivang', 3: 'Sita', 4: 'Riddhi', 5: 'Ram', '4': 'Ramesh'}\n",
      "Shivang\n"
     ]
    }
   ],
   "source": [
    "D2={1:'Sneha',2:'Shivang',3:'Raj',4:'Riddhi',5:'Ram',3:'Sita','4':'Ramesh'}\n",
    "print(D2)\n",
    "print(D2.get(2))"
   ]
  },
  {
   "cell_type": "code",
   "execution_count": 29,
   "id": "df161d7f",
   "metadata": {},
   "outputs": [],
   "source": [
    "#Adding and updating the key-value pairs"
   ]
  },
  {
   "cell_type": "code",
   "execution_count": 30,
   "id": "c28afc55",
   "metadata": {},
   "outputs": [
    {
     "name": "stdout",
     "output_type": "stream",
     "text": [
      "{1: 'Sneha', 2: 'Shivang', 3: 'Sita', 4: 'Riddhi', 5: 'Ram', '4': 'Ramesh'}\n",
      "{1: 'Sneha', 2: 'Shivang', 3: 'Sita', 4: 'Riddhi', 5: 'Ram', '4': 'Ramesh', 6: 'Sneha'}\n",
      "{1: 'Sneha', 2: 'Shivang', 3: 'Sita', 4: 'Riddhi', 5: 'Ram', '4': 'Ramesh'}\n"
     ]
    }
   ],
   "source": [
    "print(D2)\n",
    "D2[6]='Sneha'\n",
    "print(D2)\n",
    "del D2[6]\n",
    "print(D2)"
   ]
  },
  {
   "cell_type": "code",
   "execution_count": 31,
   "id": "c70da84c",
   "metadata": {},
   "outputs": [
    {
     "name": "stdout",
     "output_type": "stream",
     "text": [
      "{1: 'Sneha', 2: 'Shivang', 3: 'Sita', 4: 'Riddhi', 5: 'Ram', '4': 'Ramesh'}\n",
      "{}\n"
     ]
    }
   ],
   "source": [
    "#Clearing the dictionary\n",
    "print(D2)\n",
    "D2.clear()\n",
    "print(D2)"
   ]
  },
  {
   "cell_type": "code",
   "execution_count": 34,
   "id": "6c577d46",
   "metadata": {},
   "outputs": [
    {
     "name": "stdout",
     "output_type": "stream",
     "text": [
      "{1: 'Sneha', 2: 'Shivang'}\n",
      "dict_keys([1, 2])\n",
      "dict_values(['Sneha', 'Shivang'])\n"
     ]
    }
   ],
   "source": [
    "#iterating through the Dictionary\n",
    "print(D1)\n",
    "print(D1.keys())\n",
    "print(D1.values())"
   ]
  },
  {
   "cell_type": "code",
   "execution_count": 35,
   "id": "02c122c2",
   "metadata": {},
   "outputs": [
    {
     "name": "stdout",
     "output_type": "stream",
     "text": [
      "1 Sneha\n",
      "2 Shivang\n"
     ]
    }
   ],
   "source": [
    "for k in D1.keys():\n",
    "    print(k,D1[k])"
   ]
  },
  {
   "cell_type": "code",
   "execution_count": 36,
   "id": "0ae3c613",
   "metadata": {},
   "outputs": [
    {
     "name": "stdout",
     "output_type": "stream",
     "text": [
      "dict_items([(1, 'Sneha'), (2, 'Shivang')])\n"
     ]
    }
   ],
   "source": [
    "print(D1.items())"
   ]
  },
  {
   "cell_type": "code",
   "execution_count": 38,
   "id": "0f961b5a",
   "metadata": {},
   "outputs": [
    {
     "name": "stdout",
     "output_type": "stream",
     "text": [
      "1 Sneha\n",
      "2 Shivang\n"
     ]
    }
   ],
   "source": [
    "for k,v in D1.items():\n",
    "    print(k,v)"
   ]
  },
  {
   "cell_type": "code",
   "execution_count": 39,
   "id": "fc03e955",
   "metadata": {},
   "outputs": [
    {
     "name": "stdout",
     "output_type": "stream",
     "text": [
      "{1: 'Sneha', 2: 'Shivang'}\n"
     ]
    }
   ],
   "source": [
    "#Checking if key is present \n",
    "print(D1)"
   ]
  },
  {
   "cell_type": "code",
   "execution_count": 45,
   "id": "9489e66d",
   "metadata": {},
   "outputs": [
    {
     "name": "stdout",
     "output_type": "stream",
     "text": [
      "True\n",
      "False\n"
     ]
    }
   ],
   "source": [
    "print(1 in D1)\n",
    "print('1' in D1)"
   ]
  },
  {
   "cell_type": "code",
   "execution_count": 46,
   "id": "8ca7a5c2",
   "metadata": {},
   "outputs": [],
   "source": [
    "#Merging the Dictionaries"
   ]
  },
  {
   "cell_type": "code",
   "execution_count": 52,
   "id": "75f42ac9",
   "metadata": {},
   "outputs": [
    {
     "name": "stdout",
     "output_type": "stream",
     "text": [
      "{1: 'A', 2: 'B', 3: 'C'}\n",
      "{1: 'a', 2: 'b', 3: 'c'}\n"
     ]
    }
   ],
   "source": [
    "d1={1:'A',2:'B',3:'C'}\n",
    "d2={1:'a',2:'b',3:'c'}\n",
    "print(d1)\n",
    "print(d2)"
   ]
  },
  {
   "cell_type": "code",
   "execution_count": 54,
   "id": "73e78ddb",
   "metadata": {},
   "outputs": [
    {
     "name": "stdout",
     "output_type": "stream",
     "text": [
      "{1: 'a', 2: 'b', 3: 'c'}\n",
      "{1: 'a', 2: 'b', 3: 'c'}\n"
     ]
    }
   ],
   "source": [
    "d1.update(d2)\n",
    "print(d1)\n",
    "print(d2)"
   ]
  },
  {
   "cell_type": "markdown",
   "id": "e9b6c0e7",
   "metadata": {},
   "source": [
    "# Multi-Dimensional Dictionary"
   ]
  },
  {
   "cell_type": "code",
   "execution_count": 117,
   "id": "22421e6e",
   "metadata": {},
   "outputs": [
    {
     "data": {
      "text/plain": [
       "{1: {2: 'Sneha', 3: 'Shivang'}}"
      ]
     },
     "execution_count": 117,
     "metadata": {},
     "output_type": "execute_result"
    }
   ],
   "source": [
    "dd={1:{2:'Sneha',3:'Shivang'}}\n",
    "dd"
   ]
  },
  {
   "cell_type": "code",
   "execution_count": 118,
   "id": "f3a4f441",
   "metadata": {},
   "outputs": [
    {
     "name": "stdout",
     "output_type": "stream",
     "text": [
      "1\n"
     ]
    }
   ],
   "source": [
    "print(len(dd))"
   ]
  },
  {
   "cell_type": "code",
   "execution_count": 119,
   "id": "72a86308",
   "metadata": {},
   "outputs": [],
   "source": [
    "#Accessing the elements"
   ]
  },
  {
   "cell_type": "code",
   "execution_count": 120,
   "id": "e220542a",
   "metadata": {},
   "outputs": [
    {
     "name": "stdout",
     "output_type": "stream",
     "text": [
      "{1: {'name': 'Sneha', 'phone': '9569773306'}, 2: {'name': 'Shivang', 'phone': '8115014333'}, 3: {'name': 'Shiva', 'phone': '8115014333'}}\n"
     ]
    }
   ],
   "source": [
    "d1={1:{'name':'Sneha','phone':'9569773306'},\n",
    "    2:{'name':'Shivang','phone':'8115014333'},\n",
    "    3:{'name':'Shiva','phone':'8115014333'}}\n",
    "print(d1)"
   ]
  },
  {
   "cell_type": "code",
   "execution_count": 121,
   "id": "c6cf71a3",
   "metadata": {},
   "outputs": [
    {
     "name": "stdout",
     "output_type": "stream",
     "text": [
      "{'name': 'Sneha', 'phone': '9569773306'}\n"
     ]
    }
   ],
   "source": [
    "print(d1[1])"
   ]
  },
  {
   "cell_type": "code",
   "execution_count": 122,
   "id": "3e37fdc4",
   "metadata": {},
   "outputs": [
    {
     "name": "stdout",
     "output_type": "stream",
     "text": [
      "Sneha\n"
     ]
    }
   ],
   "source": [
    "print(d1[1]['name'])"
   ]
  },
  {
   "cell_type": "code",
   "execution_count": 123,
   "id": "51ea2b49",
   "metadata": {},
   "outputs": [
    {
     "name": "stdout",
     "output_type": "stream",
     "text": [
      "{1: {'name': 'Sneha', 'phone': '9569773306'}, 2: {'name': 'Shivang', 'phone': '8115014333'}, 3: {'name': 'Shiva', 'phone': '8115014333'}}\n"
     ]
    }
   ],
   "source": [
    "#Adding,Updating and Deleting \n",
    "print(d1)"
   ]
  },
  {
   "cell_type": "code",
   "execution_count": 124,
   "id": "6d35828f",
   "metadata": {},
   "outputs": [
    {
     "name": "stdout",
     "output_type": "stream",
     "text": [
      "{1: {'name': 'Sneha', 'phone': '9569773306'}, 2: {'name': 'Shivang', 'phone': '8115014333'}, 3: {'name': 'Avneet', 'phone': '8115014333'}}\n"
     ]
    }
   ],
   "source": [
    "#Updating\n",
    "d1[3]['name']='Avneet'\n",
    "print(d1)"
   ]
  },
  {
   "cell_type": "code",
   "execution_count": 125,
   "id": "466a7ac8",
   "metadata": {},
   "outputs": [
    {
     "name": "stdout",
     "output_type": "stream",
     "text": [
      "{1: {'name': 'Sneha', 'phone': '9569773306'}, 2: {'name': 'Shivang', 'phone': '8115014333'}, 3: {'name': 'Avneet', 'phone': '8115014333'}, 4: {'name': 'Sita', 'phone': '7654325622'}}\n"
     ]
    }
   ],
   "source": [
    "#Adding\n",
    "d1[4]={'name':'Sita','phone':'7654325622'}\n",
    "print(d1)"
   ]
  },
  {
   "cell_type": "code",
   "execution_count": 126,
   "id": "f569dac3",
   "metadata": {},
   "outputs": [
    {
     "name": "stdout",
     "output_type": "stream",
     "text": [
      "{1: {'name': 'Sneha', 'phone': '9569773306'}, 2: {'name': 'Shivang', 'phone': '8115014333'}, 3: {'name': 'Avneet', 'phone': '8115014333'}, 4: {'name': 'Sita', 'phone': '7654325622'}}\n",
      "--------------------\n",
      "{1: {'name': 'Sneha', 'phone': '9569773306'}, 2: {'name': 'Shivang', 'phone': '8115014333'}, 3: {'name': 'Avneet', 'phone': '8115014333'}}\n"
     ]
    }
   ],
   "source": [
    "#Deleting \n",
    "print(d1)\n",
    "print('-'*20)\n",
    "\n",
    "del d1[4]\n",
    "print(d1)"
   ]
  },
  {
   "cell_type": "code",
   "execution_count": 127,
   "id": "fa827458",
   "metadata": {},
   "outputs": [
    {
     "name": "stdout",
     "output_type": "stream",
     "text": [
      "{1: {'name': 'Sneha', 'phone': '9569773306'}, 2: {'name': 'Shivang', 'phone': '8115014333'}, 3: {'name': 'Avneet', 'phone': '8115014333'}}\n"
     ]
    }
   ],
   "source": [
    "#going through the data \n",
    "print(d1)"
   ]
  },
  {
   "cell_type": "code",
   "execution_count": 128,
   "id": "9d2e8add",
   "metadata": {},
   "outputs": [
    {
     "name": "stdout",
     "output_type": "stream",
     "text": [
      "1 Sneha 9569773306\n",
      "2 Shivang 8115014333\n",
      "3 Avneet 8115014333\n"
     ]
    }
   ],
   "source": [
    "for i in d1.keys():\n",
    "    print(i,d1[i]['name'],d1[i]['phone'])"
   ]
  },
  {
   "cell_type": "code",
   "execution_count": 129,
   "id": "f9d9380e",
   "metadata": {},
   "outputs": [
    {
     "name": "stdout",
     "output_type": "stream",
     "text": [
      "{1: {'name': 'Sneha', 'phone': '9569773306', 'marks': {'hin': 42, 'mth': 45, 'sci': 41}}, 2: {'name': 'Shivang', 'phone': '8115014333', 'marks': {'hin': 45, 'mth': 42, 'sci': 40}}, 3: {'name': 'Shiva', 'phone': '8115014333', 'marks': {'hin': 46, 'mth': 40, 'sci': 43}}}\n"
     ]
    }
   ],
   "source": [
    "#Going a level deeper with marks\n",
    "d1={1:{'name':'Sneha','phone':'9569773306','marks':{'hin':42,'mth':45,'sci':41}},\n",
    "    2:{'name':'Shivang','phone':'8115014333','marks':{'hin':45,'mth':42,'sci':40}},\n",
    "    3:{'name':'Shiva','phone':'8115014333','marks':{'hin':46,'mth':40,'sci':43}}}\n",
    "print(d1)"
   ]
  },
  {
   "cell_type": "code",
   "execution_count": 132,
   "id": "c3a6fdc1",
   "metadata": {},
   "outputs": [
    {
     "name": "stdout",
     "output_type": "stream",
     "text": [
      "1 Sneha 42\n",
      "1 Shivang 45\n",
      "1 Shiva 46\n"
     ]
    }
   ],
   "source": [
    "for i in d1.keys():\n",
    "    print(1,d1[i]['name'],d1[i]['marks']['hin'])"
   ]
  },
  {
   "cell_type": "markdown",
   "id": "1e5e6ee9",
   "metadata": {},
   "source": [
    "# Dictionary Comprehension "
   ]
  },
  {
   "cell_type": "code",
   "execution_count": 134,
   "id": "3efe84ce",
   "metadata": {},
   "outputs": [
    {
     "data": {
      "text/plain": [
       "{1: 1, 2: 4, 3: 9, 4: 16, 5: 25}"
      ]
     },
     "execution_count": 134,
     "metadata": {},
     "output_type": "execute_result"
    }
   ],
   "source": [
    "{i:i**2 for i in range(1,6)}"
   ]
  },
  {
   "cell_type": "code",
   "execution_count": 135,
   "id": "3a2b6b31",
   "metadata": {},
   "outputs": [
    {
     "data": {
      "text/plain": [
       "{1: 1, 2: 8, 3: 27, 4: 64, 5: 125}"
      ]
     },
     "execution_count": 135,
     "metadata": {},
     "output_type": "execute_result"
    }
   ],
   "source": [
    "{i:i**3 for i in range(1,6)}"
   ]
  },
  {
   "cell_type": "code",
   "execution_count": 137,
   "id": "0a9a3b17",
   "metadata": {},
   "outputs": [
    {
     "data": {
      "text/plain": [
       "{2: 4, 4: 16, 6: 36, 8: 64, 10: 100}"
      ]
     },
     "execution_count": 137,
     "metadata": {},
     "output_type": "execute_result"
    }
   ],
   "source": [
    "#Dictionaries with conditions\n",
    "{i:i**2 for i in range(1,11) if i%2==0}"
   ]
  },
  {
   "cell_type": "code",
   "execution_count": 139,
   "id": "bf5b5212",
   "metadata": {},
   "outputs": [
    {
     "name": "stdout",
     "output_type": "stream",
     "text": [
      "['Apple', 'Banana', 'Grapes']\n",
      "{'Apple': 5, 'Banana': 6, 'Grapes': 6}\n",
      "{5: 'Apple', 6: 'Grapes'}\n"
     ]
    }
   ],
   "source": [
    "#Dictionaries from lists\n",
    "lst=['Apple','Banana','Grapes']\n",
    "dct={item:len(item) for item in lst}\n",
    "print(lst)\n",
    "print(dct)\n",
    "dct={len(item):item for item in lst}\n",
    "print(dct)"
   ]
  },
  {
   "cell_type": "code",
   "execution_count": 145,
   "id": "f4160fbf",
   "metadata": {},
   "outputs": [
    {
     "name": "stdout",
     "output_type": "stream",
     "text": [
      "{'num_1': 1, 'num_2': 2, 'num_3': 3, 'num_4': 4, 'num_5': 5, 'num_6': 6, 'num_7': 7, 'num_8': 8, 'num_9': 9, 'num_10': 10}\n"
     ]
    }
   ],
   "source": [
    "#Special keys with Strings \n",
    "dct={'num_'+str(i):i for i in range(1,11)}\n",
    "print(dct)"
   ]
  },
  {
   "cell_type": "code",
   "execution_count": 147,
   "id": "54b55aab",
   "metadata": {},
   "outputs": [
    {
     "name": "stdout",
     "output_type": "stream",
     "text": [
      "{'num_3': 3, 'num_6': 6, 'num_9': 9}\n"
     ]
    }
   ],
   "source": [
    "#Special keys with Strings \n",
    "dct={'num_'+str(i):i for i in range(1,11)}\n",
    "dct={k:v for k,v in dct.items() if v%3==0}\n",
    "print(dct)"
   ]
  },
  {
   "cell_type": "code",
   "execution_count": 149,
   "id": "50077d2f",
   "metadata": {},
   "outputs": [
    {
     "name": "stdout",
     "output_type": "stream",
     "text": [
      "{(0, 0): 1, (0, 1): 2, (0, 2): 3, (1, 0): 4, (1, 1): 5, (1, 2): 6, (2, 0): 7, (2, 1): 8, (2, 2): 9}\n"
     ]
    }
   ],
   "source": [
    "#matrix\n",
    "matrix=[[1,2,3],[4,5,6],[7,8,9]]\n",
    "final_dct={(i,j): matrix[i][j] for i in range(3) for j in range(3)}\n",
    "print(final_dct)"
   ]
  },
  {
   "cell_type": "code",
   "execution_count": 152,
   "id": "c729f763",
   "metadata": {},
   "outputs": [
    {
     "name": "stdout",
     "output_type": "stream",
     "text": [
      "{1: (0, 0), 2: (0, 1), 3: (0, 2), 4: (1, 0), 5: (1, 1), 6: (1, 2), 7: (2, 0), 8: (2, 1), 9: (2, 2)}\n"
     ]
    }
   ],
   "source": [
    "matrix=[[1,2,3],[4,5,6],[7,8,9]]\n",
    "final_dct={matrix[i][j] : (i,j)for i in range(3) for j in range(3)}\n",
    "print(final_dct)"
   ]
  },
  {
   "cell_type": "code",
   "execution_count": null,
   "id": "505e6906",
   "metadata": {},
   "outputs": [],
   "source": []
  }
 ],
 "metadata": {
  "kernelspec": {
   "display_name": "Python 3 (ipykernel)",
   "language": "python",
   "name": "python3"
  },
  "language_info": {
   "codemirror_mode": {
    "name": "ipython",
    "version": 3
   },
   "file_extension": ".py",
   "mimetype": "text/x-python",
   "name": "python",
   "nbconvert_exporter": "python",
   "pygments_lexer": "ipython3",
   "version": "3.11.5"
  }
 },
 "nbformat": 4,
 "nbformat_minor": 5
}
