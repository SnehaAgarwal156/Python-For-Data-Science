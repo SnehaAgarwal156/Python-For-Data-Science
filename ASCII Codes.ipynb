{
 "cells": [
  {
   "cell_type": "code",
   "execution_count": 1,
   "id": "d0581a7d",
   "metadata": {},
   "outputs": [
    {
     "name": "stdout",
     "output_type": "stream",
     "text": [
      "A\n"
     ]
    }
   ],
   "source": [
    "print('A')"
   ]
  },
  {
   "cell_type": "code",
   "execution_count": 3,
   "id": "db85959e",
   "metadata": {},
   "outputs": [
    {
     "name": "stdout",
     "output_type": "stream",
     "text": [
      "65\n"
     ]
    }
   ],
   "source": [
    "print(ord('A'))                #Ascii code of A is 65"
   ]
  },
  {
   "cell_type": "code",
   "execution_count": 7,
   "id": "b4d5e661",
   "metadata": {},
   "outputs": [],
   "source": [
    "#you can only pass one character at a time\n",
    "#Takes input as only string"
   ]
  },
  {
   "cell_type": "code",
   "execution_count": 8,
   "id": "f8b20b20",
   "metadata": {},
   "outputs": [
    {
     "name": "stdout",
     "output_type": "stream",
     "text": [
      "48\n"
     ]
    }
   ],
   "source": [
    "print(ord('0'))"
   ]
  },
  {
   "cell_type": "code",
   "execution_count": 9,
   "id": "b0d28632",
   "metadata": {},
   "outputs": [
    {
     "name": "stdout",
     "output_type": "stream",
     "text": [
      "32\n"
     ]
    }
   ],
   "source": [
    "print(ord(' '))"
   ]
  },
  {
   "cell_type": "code",
   "execution_count": 10,
   "id": "9f9b9a45",
   "metadata": {},
   "outputs": [
    {
     "name": "stdout",
     "output_type": "stream",
     "text": [
      "33\n"
     ]
    }
   ],
   "source": [
    "print(ord('!'))"
   ]
  },
  {
   "cell_type": "code",
   "execution_count": 11,
   "id": "259e946c",
   "metadata": {},
   "outputs": [
    {
     "name": "stdout",
     "output_type": "stream",
     "text": [
      "35\n"
     ]
    }
   ],
   "source": [
    "print(ord('#'))"
   ]
  },
  {
   "cell_type": "code",
   "execution_count": 12,
   "id": "807b4be8",
   "metadata": {},
   "outputs": [],
   "source": [
    "# Reverse of this"
   ]
  },
  {
   "cell_type": "code",
   "execution_count": 13,
   "id": "3a35602e",
   "metadata": {},
   "outputs": [],
   "source": [
    "# we use chr()"
   ]
  },
  {
   "cell_type": "code",
   "execution_count": 14,
   "id": "e1a3db2f",
   "metadata": {},
   "outputs": [
    {
     "name": "stdout",
     "output_type": "stream",
     "text": [
      "0\n"
     ]
    }
   ],
   "source": [
    "print(chr(48))"
   ]
  },
  {
   "cell_type": "code",
   "execution_count": 20,
   "id": "c555fc2e",
   "metadata": {},
   "outputs": [
    {
     "name": "stdout",
     "output_type": "stream",
     "text": [
      "a\n"
     ]
    }
   ],
   "source": [
    "print(chr(97))"
   ]
  },
  {
   "cell_type": "code",
   "execution_count": 21,
   "id": "2231788e",
   "metadata": {},
   "outputs": [
    {
     "name": "stdout",
     "output_type": "stream",
     "text": [
      "A\n"
     ]
    }
   ],
   "source": [
    "print(chr(65))"
   ]
  },
  {
   "cell_type": "code",
   "execution_count": 22,
   "id": "f300d839",
   "metadata": {},
   "outputs": [
    {
     "name": "stdout",
     "output_type": "stream",
     "text": [
      "33 !\n",
      "34 \"\n",
      "35 #\n",
      "36 $\n",
      "37 %\n",
      "38 &\n",
      "39 '\n",
      "40 (\n",
      "41 )\n",
      "42 *\n",
      "43 +\n",
      "44 ,\n",
      "45 -\n",
      "46 .\n",
      "47 /\n",
      "48 0\n",
      "49 1\n",
      "50 2\n",
      "51 3\n",
      "52 4\n",
      "53 5\n",
      "54 6\n",
      "55 7\n",
      "56 8\n",
      "57 9\n",
      "58 :\n",
      "59 ;\n",
      "60 <\n",
      "61 =\n",
      "62 >\n",
      "63 ?\n",
      "64 @\n",
      "65 A\n",
      "66 B\n",
      "67 C\n",
      "68 D\n",
      "69 E\n",
      "70 F\n",
      "71 G\n",
      "72 H\n",
      "73 I\n",
      "74 J\n",
      "75 K\n",
      "76 L\n",
      "77 M\n",
      "78 N\n",
      "79 O\n",
      "80 P\n",
      "81 Q\n",
      "82 R\n",
      "83 S\n",
      "84 T\n",
      "85 U\n",
      "86 V\n",
      "87 W\n",
      "88 X\n",
      "89 Y\n",
      "90 Z\n",
      "91 [\n",
      "92 \\\n",
      "93 ]\n",
      "94 ^\n",
      "95 _\n",
      "96 `\n",
      "97 a\n",
      "98 b\n",
      "99 c\n",
      "100 d\n",
      "101 e\n",
      "102 f\n",
      "103 g\n",
      "104 h\n",
      "105 i\n",
      "106 j\n",
      "107 k\n",
      "108 l\n",
      "109 m\n",
      "110 n\n",
      "111 o\n",
      "112 p\n",
      "113 q\n",
      "114 r\n",
      "115 s\n",
      "116 t\n",
      "117 u\n",
      "118 v\n",
      "119 w\n",
      "120 x\n",
      "121 y\n",
      "122 z\n",
      "123 {\n",
      "124 |\n",
      "125 }\n",
      "126 ~\n"
     ]
    }
   ],
   "source": [
    "for i in range(33,127):\n",
    "    print(i, chr(i))"
   ]
  },
  {
   "cell_type": "code",
   "execution_count": 23,
   "id": "afaa7285",
   "metadata": {},
   "outputs": [
    {
     "name": "stdout",
     "output_type": "stream",
     "text": [
      "The ASCII code of 'A' is 65\n"
     ]
    }
   ],
   "source": [
    "char='A'\n",
    "ascii_code=ord(char)\n",
    "print(f\"The ASCII code of '{char}' is {ascii_code}\")"
   ]
  },
  {
   "cell_type": "code",
   "execution_count": 24,
   "id": "36d343e8",
   "metadata": {},
   "outputs": [
    {
     "name": "stdout",
     "output_type": "stream",
     "text": [
      "a\n"
     ]
    }
   ],
   "source": [
    "ascii_code=97\n",
    "character=chr(ascii_code)\n",
    "print(character)"
   ]
  },
  {
   "cell_type": "code",
   "execution_count": 25,
   "id": "74ce5390",
   "metadata": {},
   "outputs": [],
   "source": [
    "#Iterating throgh characters"
   ]
  },
  {
   "cell_type": "code",
   "execution_count": 27,
   "id": "94314e2e",
   "metadata": {},
   "outputs": [
    {
     "name": "stdout",
     "output_type": "stream",
     "text": [
      "H 72\n",
      "e 101\n",
      "l 108\n",
      "l 108\n",
      "o 111\n"
     ]
    }
   ],
   "source": [
    "text=\"Hello\"\n",
    "for char in text:\n",
    "    ascii_code=ord(char)\n",
    "    print(char,ascii_code)"
   ]
  },
  {
   "cell_type": "code",
   "execution_count": 28,
   "id": "3fdc3cdb",
   "metadata": {},
   "outputs": [],
   "source": [
    "#Converting String to ascii code"
   ]
  },
  {
   "cell_type": "code",
   "execution_count": 29,
   "id": "ec24e81f",
   "metadata": {},
   "outputs": [
    {
     "name": "stdout",
     "output_type": "stream",
     "text": [
      "ASCII codes of characters in 'Python': [80, 121, 116, 104, 111, 110]\n"
     ]
    }
   ],
   "source": [
    "text = \"Python\"\n",
    "ascii_list = [ord(char) for char in text]\n",
    "print(f\"ASCII codes of characters in '{text}': {ascii_list}\")\n"
   ]
  },
  {
   "cell_type": "markdown",
   "id": "fa6c4596",
   "metadata": {},
   "source": [
    "Problem Statement - Caesar Cipher Encryption and Decryption. The Caesar cipher is a type of substitution cipher where each letter in the plaintext is shifted a certain number of places down or up the alphabet."
   ]
  },
  {
   "cell_type": "code",
   "execution_count": 30,
   "id": "805ea589",
   "metadata": {},
   "outputs": [
    {
     "name": "stdout",
     "output_type": "stream",
     "text": [
      "Encrypted Message : Mj~%Ljjp&%\\mfy,x%~tzw%uwtlwjxxD\n",
      "Decrypted Message : Hey Geek! What's your progress?\n"
     ]
    }
   ],
   "source": [
    "def encrypt(message, shift):\n",
    "    encrypted_text = ''.join([chr(ord(char) + shift) for char in message])\n",
    "    return encrypted_text\n",
    "\n",
    "def decrypt(encrypted_message, shift):\n",
    "    decrypted_text = ''.join([chr(ord(char) - shift) for char in encrypted_message])\n",
    "    return decrypted_text\n",
    "  \n",
    "encrypted_message= encrypt(\"Hey Geek! What's your progress?\", 5)\n",
    "print(\"Encrypted Message :\", encrypted_message)\n",
    "decrypted_message = decrypt(encrypted_message, 5)\n",
    "print(\"Decrypted Message :\", decrypted_message)\n"
   ]
  },
  {
   "cell_type": "code",
   "execution_count": 32,
   "id": "5850e397",
   "metadata": {},
   "outputs": [
    {
     "name": "stdout",
     "output_type": "stream",
     "text": [
      "['banana', 'cherry']\n"
     ]
    }
   ],
   "source": [
    "words=[\"apple\",\"banana\",\"cherry\"]\n",
    "filtered_words=list(filter(lambda x: len(x)>5, words))\n",
    "print(filtered_words)"
   ]
  },
  {
   "cell_type": "code",
   "execution_count": 33,
   "id": "e64334eb",
   "metadata": {},
   "outputs": [
    {
     "ename": "NameError",
     "evalue": "name 'reduce' is not defined",
     "output_type": "error",
     "traceback": [
      "\u001b[1;31m---------------------------------------------------------------------------\u001b[0m",
      "\u001b[1;31mNameError\u001b[0m                                 Traceback (most recent call last)",
      "Cell \u001b[1;32mIn[33], line 3\u001b[0m\n\u001b[0;32m      1\u001b[0m numbera\u001b[38;5;241m=\u001b[39m[\u001b[38;5;241m1\u001b[39m,\u001b[38;5;241m2\u001b[39m,\u001b[38;5;241m3\u001b[39m,\u001b[38;5;241m4\u001b[39m,\u001b[38;5;241m5\u001b[39m]\n\u001b[0;32m      2\u001b[0m product\u001b[38;5;241m=\u001b[39m\u001b[38;5;28;01mlambda\u001b[39;00m x, y: x\u001b[38;5;241m*\u001b[39my\n\u001b[1;32m----> 3\u001b[0m result\u001b[38;5;241m=\u001b[39m\u001b[43mreduce\u001b[49m(product, numbers)\n\u001b[0;32m      4\u001b[0m \u001b[38;5;28mprint\u001b[39m(result)\n",
      "\u001b[1;31mNameError\u001b[0m: name 'reduce' is not defined"
     ]
    }
   ],
   "source": [
    "numbera=[1,2,3,4,5]\n",
    "product=lambda x, y: x*y\n",
    "result=reduce(product, numbers)\n",
    "print(result)"
   ]
  },
  {
   "cell_type": "code",
   "execution_count": null,
   "id": "bc0bb32b",
   "metadata": {},
   "outputs": [],
   "source": []
  }
 ],
 "metadata": {
  "kernelspec": {
   "display_name": "Python 3 (ipykernel)",
   "language": "python",
   "name": "python3"
  },
  "language_info": {
   "codemirror_mode": {
    "name": "ipython",
    "version": 3
   },
   "file_extension": ".py",
   "mimetype": "text/x-python",
   "name": "python",
   "nbconvert_exporter": "python",
   "pygments_lexer": "ipython3",
   "version": "3.11.5"
  }
 },
 "nbformat": 4,
 "nbformat_minor": 5
}
