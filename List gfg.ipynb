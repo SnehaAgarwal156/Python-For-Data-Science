{
 "cells": [
  {
   "cell_type": "markdown",
   "id": "c60765fa",
   "metadata": {},
   "source": [
    "# list"
   ]
  },
  {
   "cell_type": "raw",
   "id": "099199be",
   "metadata": {},
   "source": [
    "List is the collection of data that we can put together \n",
    "It can be represented by [Square bracket]"
   ]
  },
  {
   "cell_type": "code",
   "execution_count": 1,
   "id": "bde2b957",
   "metadata": {},
   "outputs": [
    {
     "name": "stdout",
     "output_type": "stream",
     "text": [
      "[1, 2, 3, 4, 5, 6]\n",
      "[1.2, 2.3, 4.5]\n",
      "['a', 'b', 'c']\n",
      "[True, False, True, True]\n",
      "[1, 2, 3.4, 'a', 'b', True, 2]\n"
     ]
    }
   ],
   "source": [
    "lis=[1,2,3,4,5,6]\n",
    "print(lis)\n",
    "lis1=[1.2,2.3,4.5]\n",
    "print(lis1)\n",
    "lis2=['a', 'b', 'c']\n",
    "print(lis2)\n",
    "lis3=[True, False, True, True]\n",
    "print(lis3)\n",
    "lis4=[1,2,3.4,'a','b',True,2]\n",
    "print(lis4)"
   ]
  },
  {
   "cell_type": "code",
   "execution_count": 2,
   "id": "d5a3f2e4",
   "metadata": {},
   "outputs": [
    {
     "name": "stdout",
     "output_type": "stream",
     "text": [
      "['Sneha', 'Priynashu', 'Saloni', 'Shubham']\n",
      "Sneha\n",
      "Priynashu\n",
      "['Sneha', 'Priynashu', 'Sakshi', 'Shubham']\n",
      "['Sneha', 'Priynashu']\n",
      "['Shubham', 'Sakshi', 'Priynashu', 'Sneha']\n"
     ]
    }
   ],
   "source": [
    "lst=['Sneha','Priynashu','Saloni','Shubham']\n",
    "print(lst)\n",
    "\n",
    "#Access the elements through indexing\n",
    "print(lst[0])\n",
    "print(lst[-3])\n",
    "\n",
    "#Modify the values\n",
    "lst[2]='Sakshi'\n",
    "print(lst)\n",
    "\n",
    "#Slicing the list \n",
    "print(lst[0:2])\n",
    "print(lst[::-1]) #Reverse the list "
   ]
  },
  {
   "cell_type": "code",
   "execution_count": 3,
   "id": "e6569bed",
   "metadata": {},
   "outputs": [
    {
     "name": "stdout",
     "output_type": "stream",
     "text": [
      "['Sneha', 'Priynashu', 'Sakshi', 'Shubham', 'Tripti']\n"
     ]
    }
   ],
   "source": [
    "#Appending \n",
    "lst.append('Tripti')\n",
    "print(lst)"
   ]
  },
  {
   "cell_type": "code",
   "execution_count": 4,
   "id": "6d3699e4",
   "metadata": {},
   "outputs": [
    {
     "name": "stdout",
     "output_type": "stream",
     "text": [
      "['Sneha', 'Priynashu', 'Sakshi', 'Shubham', 'Tripti']\n",
      "5\n"
     ]
    }
   ],
   "source": [
    "#Length of the list\n",
    "print(lst)\n",
    "print(len(lst))"
   ]
  },
  {
   "cell_type": "code",
   "execution_count": 7,
   "id": "cbb867ec",
   "metadata": {},
   "outputs": [
    {
     "name": "stdout",
     "output_type": "stream",
     "text": [
      "[1, 2, 3, 4, 5, 6, 7, 8, 9, 0]\n",
      "[0, 1, 2, 3, 4, 5, 6, 7, 8, 9]\n"
     ]
    }
   ],
   "source": [
    "#Sorting \n",
    "lis=[1,2,3,4,5,6,7,8,9,0]\n",
    "print(lis)\n",
    "print(sorted(lis))"
   ]
  },
  {
   "cell_type": "code",
   "execution_count": 10,
   "id": "0c04e8c2",
   "metadata": {},
   "outputs": [
    {
     "name": "stdout",
     "output_type": "stream",
     "text": [
      "4\n"
     ]
    }
   ],
   "source": [
    "#Finding the element \n",
    "ls=['Sneha','Saloni',1,2,3]\n",
    "print(ls.index(3))"
   ]
  },
  {
   "cell_type": "code",
   "execution_count": 11,
   "id": "d9664494",
   "metadata": {},
   "outputs": [
    {
     "name": "stdout",
     "output_type": "stream",
     "text": [
      "3\n"
     ]
    }
   ],
   "source": [
    "#Counting\n",
    "l1=[1,1,1,2,3,4,5,6,6]\n",
    "print(l1.count(1))"
   ]
  },
  {
   "cell_type": "code",
   "execution_count": 17,
   "id": "c5354b44",
   "metadata": {},
   "outputs": [
    {
     "name": "stdout",
     "output_type": "stream",
     "text": [
      "['Sneha', 'Saloni', 1, 2, 3, 'Priyanshu', 'Ram']\n"
     ]
    }
   ],
   "source": [
    "#Extending \n",
    "ls=['Sneha','Saloni',1,2,3]\n",
    "ls.extend(['Priyanshu','Ram'])\n",
    "print(ls)"
   ]
  },
  {
   "cell_type": "code",
   "execution_count": 19,
   "id": "82d33772",
   "metadata": {},
   "outputs": [
    {
     "name": "stdout",
     "output_type": "stream",
     "text": [
      "[1, 2, 3, 4, 5, 6, 7, 8, 9, 0]\n",
      "0\n",
      "9\n"
     ]
    }
   ],
   "source": [
    "#Finding maximum and minimum\n",
    "lis=[1,2,3,4,5,6,7,8,9,0]\n",
    "print(lis)\n",
    "print(min(lis))\n",
    "print(max(lis))"
   ]
  },
  {
   "cell_type": "code",
   "execution_count": 20,
   "id": "6e8e35a5",
   "metadata": {},
   "outputs": [
    {
     "name": "stdout",
     "output_type": "stream",
     "text": [
      "[1, 2, 3, 4, 5, 6, 7, 8, 9, 0]\n",
      "1\n",
      "2\n",
      "3\n",
      "4\n",
      "5\n",
      "6\n",
      "7\n",
      "8\n",
      "9\n",
      "0\n"
     ]
    }
   ],
   "source": [
    "#Iterating the elements of list\n",
    "lis=[1,2,3,4,5,6,7,8,9,0]\n",
    "print(lis)\n",
    "for i in lis:\n",
    "    print(i)"
   ]
  },
  {
   "cell_type": "code",
   "execution_count": 21,
   "id": "d179c9ed",
   "metadata": {},
   "outputs": [
    {
     "name": "stdout",
     "output_type": "stream",
     "text": [
      "[1, 2, 3, 4, 5, 6, 7, 8, 9, 0]\n",
      "1\n",
      "2\n",
      "3\n",
      "4\n",
      "5\n",
      "6\n",
      "7\n",
      "8\n",
      "9\n",
      "0\n"
     ]
    }
   ],
   "source": [
    "#2nd way (using indexing)\n",
    "lis=[1,2,3,4,5,6,7,8,9,0]\n",
    "print(lis)\n",
    "for i in range(len(lis)):\n",
    "    print(lis[i])"
   ]
  },
  {
   "cell_type": "code",
   "execution_count": 27,
   "id": "6574aa82",
   "metadata": {},
   "outputs": [
    {
     "name": "stdout",
     "output_type": "stream",
     "text": [
      "[1, 2, 3, 4, 5, 6, 7, 8, 9, 0]\n",
      "0\n",
      "9\n",
      "8\n",
      "7\n",
      "6\n",
      "5\n",
      "4\n",
      "3\n",
      "2\n",
      "1\n"
     ]
    }
   ],
   "source": [
    "#Iterating the elements of the list in the reverse\n",
    "lis=[1,2,3,4,5,6,7,8,9,0]\n",
    "print(lis)\n",
    "for i in range(len(lis)-1,-1,-1):\n",
    "    print(lis[i])"
   ]
  },
  {
   "cell_type": "markdown",
   "id": "9840dccc",
   "metadata": {},
   "source": [
    "# Multi-Dimensional List"
   ]
  },
  {
   "cell_type": "code",
   "execution_count": 46,
   "id": "ea38b634",
   "metadata": {},
   "outputs": [
    {
     "name": "stdout",
     "output_type": "stream",
     "text": [
      "[['Maths', 'English', 'Hindi'], [20, 30, 40]]\n",
      "[['Maths', 'English', 'Hindi'], ['Sneha', 20]]\n"
     ]
    }
   ],
   "source": [
    "lst=[['Maths','English','Hindi'],[20,30,40]]\n",
    "print(lst)\n",
    "lst[1]=['Sneha',20]\n",
    "print(lst)"
   ]
  },
  {
   "cell_type": "code",
   "execution_count": 47,
   "id": "3c2b266c",
   "metadata": {},
   "outputs": [
    {
     "name": "stdout",
     "output_type": "stream",
     "text": [
      "['Sneha', 1000]\n",
      "[1, 2, 3, 4, ['Sneha', 1000]]\n"
     ]
    }
   ],
   "source": [
    "lis=[1,2,3,4,['Sneha',1000]]\n",
    "print(lis[4])\n",
    "print(lis[:])"
   ]
  },
  {
   "cell_type": "code",
   "execution_count": 48,
   "id": "69ee9500",
   "metadata": {},
   "outputs": [
    {
     "name": "stdout",
     "output_type": "stream",
     "text": [
      "[1, 2, 3, 4, ['Sneha', 1000], [2, 3, 4]]\n"
     ]
    }
   ],
   "source": [
    "lis.append([2,3,4])\n",
    "print(lis)"
   ]
  },
  {
   "cell_type": "code",
   "execution_count": 49,
   "id": "9eca657b",
   "metadata": {},
   "outputs": [
    {
     "name": "stdout",
     "output_type": "stream",
     "text": [
      "[1, 2, 3, 4, ['Sneha', 1000]]\n"
     ]
    }
   ],
   "source": [
    "lis.remove([2,3,4])\n",
    "print(lis)"
   ]
  },
  {
   "cell_type": "code",
   "execution_count": 50,
   "id": "38d25063",
   "metadata": {},
   "outputs": [
    {
     "name": "stdout",
     "output_type": "stream",
     "text": [
      "[2, 3, 4, ['Sneha', 1000]]\n"
     ]
    }
   ],
   "source": [
    "del lis[0]\n",
    "print(lis)"
   ]
  },
  {
   "cell_type": "code",
   "execution_count": 75,
   "id": "cc14bc36",
   "metadata": {},
   "outputs": [
    {
     "name": "stdout",
     "output_type": "stream",
     "text": [
      "List=  [[1, 2, 3], [4, 5, 6], [7, 8, 9]]\n",
      "--------------------\n",
      "Length=  3\n",
      "--------------------\n",
      "Reverse of the list=  [[7, 8, 9], [4, 5, 6], [1, 2, 3]]\n",
      "--------------------\n",
      "Appending the list=  [[1, 2, 3], [4, 5, 6], [7, 8, 9], [10, 11, 12]]\n",
      "--------------------\n",
      "Deleting=  [[1, 2, 3], [4, 5, 6], [7, 8, 9]]\n",
      "--------------------\n",
      "[[1, 2, 3], [4, 5, 6], [7, 8, 9]]\n",
      "--------------------\n",
      "Accessing all the elements=  1\n",
      "Accessing all the elements=  2\n",
      "Accessing all the elements=  3\n",
      "Accessing all the elements=  4\n",
      "Accessing all the elements=  5\n",
      "Accessing all the elements=  6\n",
      "Accessing all the elements=  7\n",
      "Accessing all the elements=  8\n",
      "Accessing all the elements=  9\n"
     ]
    }
   ],
   "source": [
    "l1=[[1,2,3],[4,5,6],[7,8,9]]\n",
    "print('List= ',l1)\n",
    "print('-'*20)\n",
    "print('Length= ',len(l1))\n",
    "print('-'*20)\n",
    "print('Reverse of the list= ',l1[::-1])\n",
    "print('-'*20)\n",
    "l1.append([10,11,12])\n",
    "print('Appending the list= ',l1)\n",
    "print('-'*20)\n",
    "del l1[3]\n",
    "print('Deleting= ',l1)\n",
    "print('-'*20)\n",
    "print(l1)\n",
    "print('-'*20)\n",
    "for i in l1:\n",
    "    for j in i:\n",
    "        print('Accessing all the elements= ',j)"
   ]
  },
  {
   "cell_type": "markdown",
   "id": "031d7e6e",
   "metadata": {},
   "source": [
    "# List Comprehension"
   ]
  },
  {
   "cell_type": "code",
   "execution_count": 80,
   "id": "0747243b",
   "metadata": {},
   "outputs": [
    {
     "name": "stdout",
     "output_type": "stream",
     "text": [
      "[1, 2, 3, 4, 5, 6]\n",
      "[1, 4, 9, 16, 25, 36]\n"
     ]
    }
   ],
   "source": [
    "l2=[1,2,3,4,5,6]\n",
    "print(l2)\n",
    "l2= [i**2 for i in l2]\n",
    "print(l2)"
   ]
  },
  {
   "cell_type": "code",
   "execution_count": 6,
   "id": "dfbef356",
   "metadata": {},
   "outputs": [
    {
     "name": "stdout",
     "output_type": "stream",
     "text": [
      "[0, 2, 4, 6, 8, 10, 12, 14, 16, 18, 20]\n",
      "--------------------\n",
      "[0, 4, 16, 36, 64, 100, 144, 196, 256, 324, 400]\n"
     ]
    }
   ],
   "source": [
    "#Finding first ten even numbers\n",
    "print([i for i in range (21) if i%2==0])\n",
    "print('--'*10)\n",
    "print([i**2 for i in range(21) if i%2==0])"
   ]
  },
  {
   "cell_type": "code",
   "execution_count": 17,
   "id": "d07ab2f8",
   "metadata": {},
   "outputs": [
    {
     "name": "stdout",
     "output_type": "stream",
     "text": [
      "[[0, 1, 2, 3, 4], [0, 1, 2, 3, 4], [0, 1, 2, 3, 4]]\n"
     ]
    }
   ],
   "source": [
    "#Multi-Dimensional lists\n",
    "print([[j for j in range(5)] for i in range(3)])"
   ]
  },
  {
   "cell_type": "code",
   "execution_count": 18,
   "id": "88724ec6",
   "metadata": {},
   "outputs": [
    {
     "name": "stdout",
     "output_type": "stream",
     "text": [
      "[1, 2, 3, 4, 5, 6, 7, 8, 9]\n"
     ]
    }
   ],
   "source": [
    "l3=[[1,2,3],[4,5,6],[7,8,9]]\n",
    "print([j for i in l3 for j in i])"
   ]
  },
  {
   "cell_type": "code",
   "execution_count": null,
   "id": "5237fe02",
   "metadata": {},
   "outputs": [],
   "source": []
  }
 ],
 "metadata": {
  "kernelspec": {
   "display_name": "Python 3 (ipykernel)",
   "language": "python",
   "name": "python3"
  },
  "language_info": {
   "codemirror_mode": {
    "name": "ipython",
    "version": 3
   },
   "file_extension": ".py",
   "mimetype": "text/x-python",
   "name": "python",
   "nbconvert_exporter": "python",
   "pygments_lexer": "ipython3",
   "version": "3.11.5"
  }
 },
 "nbformat": 4,
 "nbformat_minor": 5
}
