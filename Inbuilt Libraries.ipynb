{
 "cells": [
  {
   "cell_type": "markdown",
   "id": "ea642db2",
   "metadata": {},
   "source": [
    "### 1) Math Library"
   ]
  },
  {
   "cell_type": "code",
   "execution_count": 1,
   "id": "8d4c35de",
   "metadata": {},
   "outputs": [],
   "source": [
    "import math"
   ]
  },
  {
   "cell_type": "code",
   "execution_count": 2,
   "id": "26d375b8",
   "metadata": {},
   "outputs": [
    {
     "name": "stdout",
     "output_type": "stream",
     "text": [
      "11\n",
      "10\n",
      "10\n"
     ]
    }
   ],
   "source": [
    "x=10.8\n",
    "print(math.ceil(x))\n",
    "print(math.floor(x))\n",
    "print(math.trunc(x))"
   ]
  },
  {
   "cell_type": "code",
   "execution_count": 3,
   "id": "c3a026d2",
   "metadata": {},
   "outputs": [
    {
     "data": {
      "text/plain": [
       "20.085536923187668"
      ]
     },
     "execution_count": 3,
     "metadata": {},
     "output_type": "execute_result"
    }
   ],
   "source": [
    "x=3\n",
    "math.exp(x)"
   ]
  },
  {
   "cell_type": "code",
   "execution_count": 4,
   "id": "f45adcfc",
   "metadata": {},
   "outputs": [
    {
     "name": "stdout",
     "output_type": "stream",
     "text": [
      "0.47712125471966244\n"
     ]
    }
   ],
   "source": [
    "print(math.log10(x))"
   ]
  },
  {
   "cell_type": "code",
   "execution_count": 11,
   "id": "1f136df8",
   "metadata": {},
   "outputs": [
    {
     "name": "stdout",
     "output_type": "stream",
     "text": [
      "0.8939966636005579\n",
      "-0.4480736161291701\n",
      "-1.995200412208242\n"
     ]
    }
   ],
   "source": [
    "x=90\n",
    "print(math.sin(x))\n",
    "print(math.cos(x))\n",
    "print(math.tan(x))"
   ]
  },
  {
   "cell_type": "code",
   "execution_count": 12,
   "id": "2c91f0a8",
   "metadata": {},
   "outputs": [
    {
     "name": "stdout",
     "output_type": "stream",
     "text": [
      "3.141592653589793\n",
      "2.718281828459045\n"
     ]
    }
   ],
   "source": [
    "print(math.pi)\n",
    "print(math.e)"
   ]
  },
  {
   "cell_type": "code",
   "execution_count": 13,
   "id": "098fa3de",
   "metadata": {},
   "outputs": [
    {
     "name": "stdout",
     "output_type": "stream",
     "text": [
      "10 3628800\n"
     ]
    }
   ],
   "source": [
    "print(10, math.factorial(10))"
   ]
  },
  {
   "cell_type": "markdown",
   "id": "549740f4",
   "metadata": {},
   "source": [
    "### 2) Random"
   ]
  },
  {
   "cell_type": "code",
   "execution_count": 14,
   "id": "163fc6a5",
   "metadata": {},
   "outputs": [],
   "source": [
    "import random"
   ]
  },
  {
   "cell_type": "code",
   "execution_count": 32,
   "id": "ce564950",
   "metadata": {},
   "outputs": [],
   "source": [
    "random.seed(40)"
   ]
  },
  {
   "cell_type": "code",
   "execution_count": 33,
   "id": "ff4042d7",
   "metadata": {},
   "outputs": [
    {
     "name": "stdout",
     "output_type": "stream",
     "text": [
      "0.4586067093870614\n"
     ]
    }
   ],
   "source": [
    "print(random.random())"
   ]
  },
  {
   "cell_type": "code",
   "execution_count": 25,
   "id": "5b91a109",
   "metadata": {},
   "outputs": [
    {
     "name": "stdout",
     "output_type": "stream",
     "text": [
      "9\n"
     ]
    }
   ],
   "source": [
    "print(random.randint(1,11))"
   ]
  },
  {
   "cell_type": "code",
   "execution_count": 26,
   "id": "aa0c9768",
   "metadata": {},
   "outputs": [
    {
     "data": {
      "text/plain": [
       "1"
      ]
     },
     "execution_count": 26,
     "metadata": {},
     "output_type": "execute_result"
    }
   ],
   "source": [
    "random.choice([1,2,3,4,5])"
   ]
  },
  {
   "cell_type": "code",
   "execution_count": 27,
   "id": "c95bd5de",
   "metadata": {},
   "outputs": [
    {
     "data": {
      "text/plain": [
       "[2, 3]"
      ]
     },
     "execution_count": 27,
     "metadata": {},
     "output_type": "execute_result"
    }
   ],
   "source": [
    "random.sample([1,2,3,4,5],2)        # sample of two number"
   ]
  },
  {
   "cell_type": "code",
   "execution_count": 28,
   "id": "023f9460",
   "metadata": {},
   "outputs": [
    {
     "data": {
      "text/plain": [
       "2.3291159862546795"
      ]
     },
     "execution_count": 28,
     "metadata": {},
     "output_type": "execute_result"
    }
   ],
   "source": [
    "random.uniform(1.0,3.0)"
   ]
  },
  {
   "cell_type": "markdown",
   "id": "c8664b88",
   "metadata": {},
   "source": [
    "### 3) Date and Time"
   ]
  },
  {
   "cell_type": "code",
   "execution_count": 34,
   "id": "0160540b",
   "metadata": {},
   "outputs": [],
   "source": [
    "#helps you to deal with date and time"
   ]
  },
  {
   "cell_type": "code",
   "execution_count": 35,
   "id": "78afa868",
   "metadata": {},
   "outputs": [],
   "source": [
    "import datetime"
   ]
  },
  {
   "cell_type": "code",
   "execution_count": 36,
   "id": "271ad664",
   "metadata": {},
   "outputs": [
    {
     "name": "stdout",
     "output_type": "stream",
     "text": [
      "2024-09-18 16:43:30.645389\n"
     ]
    }
   ],
   "source": [
    "print(datetime.datetime.now())"
   ]
  },
  {
   "cell_type": "code",
   "execution_count": 37,
   "id": "5787eb7a",
   "metadata": {},
   "outputs": [
    {
     "name": "stdout",
     "output_type": "stream",
     "text": [
      "2023-10-28 10:30:00\n"
     ]
    }
   ],
   "source": [
    "print(datetime.datetime(2023,10,28,10,30,0))"
   ]
  },
  {
   "cell_type": "code",
   "execution_count": 40,
   "id": "f3f33c91",
   "metadata": {},
   "outputs": [
    {
     "name": "stdout",
     "output_type": "stream",
     "text": [
      "18/09/24 16:45:51\n"
     ]
    }
   ],
   "source": [
    "print(datetime.datetime.now().strftime(\"%d/%m/%y %H:%M:%S\"))"
   ]
  },
  {
   "cell_type": "code",
   "execution_count": 42,
   "id": "cee7123a",
   "metadata": {},
   "outputs": [
    {
     "name": "stdout",
     "output_type": "stream",
     "text": [
      "39 days, 17:42:36.007952\n"
     ]
    }
   ],
   "source": [
    "date1=datetime.datetime(2024,10,28,10,30,0)\n",
    "date2=datetime.datetime.now()\n",
    "print(date1-date2)"
   ]
  },
  {
   "cell_type": "markdown",
   "id": "21057c0c",
   "metadata": {},
   "source": [
    "### 4) Collections"
   ]
  },
  {
   "cell_type": "code",
   "execution_count": 43,
   "id": "d002a905",
   "metadata": {},
   "outputs": [],
   "source": [
    "#used to create custom data"
   ]
  },
  {
   "cell_type": "code",
   "execution_count": 57,
   "id": "258cc574",
   "metadata": {},
   "outputs": [],
   "source": [
    "from collections import Counter, defaultdict, OrderedDict"
   ]
  },
  {
   "cell_type": "code",
   "execution_count": 58,
   "id": "62786a81",
   "metadata": {},
   "outputs": [
    {
     "name": "stdout",
     "output_type": "stream",
     "text": [
      "Counter({5: 3, 6: 2, 1: 1, 2: 1, 3: 1, 4: 1, 7: 1})\n"
     ]
    }
   ],
   "source": [
    "lst=[1,2,3,4,5,5,5,6,6,7]\n",
    "print(Counter(lst))    #Output is unordered"
   ]
  },
  {
   "cell_type": "code",
   "execution_count": 59,
   "id": "7be19a91",
   "metadata": {},
   "outputs": [
    {
     "name": "stdout",
     "output_type": "stream",
     "text": [
      "defaultdict(<class 'int'>, {'a': 2})\n"
     ]
    }
   ],
   "source": [
    "#Default dictionary\n",
    "d=defaultdict(int)\n",
    "d['a'] += 2\n",
    "print(d)"
   ]
  },
  {
   "cell_type": "code",
   "execution_count": 61,
   "id": "d6d5e48e",
   "metadata": {},
   "outputs": [
    {
     "name": "stdout",
     "output_type": "stream",
     "text": [
      "OrderedDict([('one', 1), ('two', 2)])\n"
     ]
    }
   ],
   "source": [
    "d=OrderedDict()\n",
    "d['one']=1\n",
    "d['two']=2\n",
    "print(d)"
   ]
  },
  {
   "cell_type": "markdown",
   "id": "1485e0ee",
   "metadata": {},
   "source": [
    "### 5)String"
   ]
  },
  {
   "cell_type": "code",
   "execution_count": 62,
   "id": "158d7631",
   "metadata": {},
   "outputs": [],
   "source": [
    "import string"
   ]
  },
  {
   "cell_type": "code",
   "execution_count": 64,
   "id": "9a896a58",
   "metadata": {},
   "outputs": [
    {
     "name": "stdout",
     "output_type": "stream",
     "text": [
      "abcdefghijklmnopqrstuvwxyzABCDEFGHIJKLMNOPQRSTUVWXYZ\n"
     ]
    }
   ],
   "source": [
    "print(string.ascii_letters)"
   ]
  },
  {
   "cell_type": "code",
   "execution_count": 66,
   "id": "373b049d",
   "metadata": {},
   "outputs": [
    {
     "name": "stdout",
     "output_type": "stream",
     "text": [
      "abcdefghijklmnopqrstuvwxyz\n",
      "ABCDEFGHIJKLMNOPQRSTUVWXYZ\n"
     ]
    }
   ],
   "source": [
    "print(string.ascii_lowercase)\n",
    "print(string.ascii_uppercase)"
   ]
  },
  {
   "cell_type": "code",
   "execution_count": 69,
   "id": "af0dd01a",
   "metadata": {},
   "outputs": [
    {
     "name": "stdout",
     "output_type": "stream",
     "text": [
      "0123456789\n",
      "0123456789abcdefABCDEF\n",
      "01234567\n"
     ]
    }
   ],
   "source": [
    "print(string.digits)\n",
    "print(string.hexdigits)\n",
    "print(string.octdigits)"
   ]
  },
  {
   "cell_type": "code",
   "execution_count": 70,
   "id": "4213c7fd",
   "metadata": {},
   "outputs": [
    {
     "name": "stdout",
     "output_type": "stream",
     "text": [
      "!\"#$%&'()*+,-./:;<=>?@[\\]^_`{|}~\n"
     ]
    }
   ],
   "source": [
    "print(string.punctuation)"
   ]
  },
  {
   "cell_type": "code",
   "execution_count": null,
   "id": "aa8b8859",
   "metadata": {},
   "outputs": [],
   "source": []
  }
 ],
 "metadata": {
  "kernelspec": {
   "display_name": "Python 3 (ipykernel)",
   "language": "python",
   "name": "python3"
  },
  "language_info": {
   "codemirror_mode": {
    "name": "ipython",
    "version": 3
   },
   "file_extension": ".py",
   "mimetype": "text/x-python",
   "name": "python",
   "nbconvert_exporter": "python",
   "pygments_lexer": "ipython3",
   "version": "3.11.5"
  }
 },
 "nbformat": 4,
 "nbformat_minor": 5
}
