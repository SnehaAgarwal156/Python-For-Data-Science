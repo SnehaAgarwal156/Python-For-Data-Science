{
 "cells": [
  {
   "cell_type": "code",
   "execution_count": 12,
   "id": "9bb6d00d",
   "metadata": {},
   "outputs": [
    {
     "name": "stdout",
     "output_type": "stream",
     "text": [
      "sneha\n",
      "20\n"
     ]
    }
   ],
   "source": [
    "class person:\n",
    "    name='sneha'\n",
    "    age=20\n",
    "p1=person()           #p1 is the object\n",
    "print(p1.name)\n",
    "print(p1.age)"
   ]
  },
  {
   "cell_type": "code",
   "execution_count": 13,
   "id": "90939ca2",
   "metadata": {},
   "outputs": [
    {
     "name": "stdout",
     "output_type": "stream",
     "text": [
      "Raj\n",
      "21\n"
     ]
    }
   ],
   "source": [
    "#changing the name of the person\n",
    "p1.name='Raj'\n",
    "p1.age=21\n",
    "print(p1.name)\n",
    "print(p1.age)"
   ]
  },
  {
   "cell_type": "code",
   "execution_count": 15,
   "id": "7e542a7f",
   "metadata": {},
   "outputs": [
    {
     "name": "stdout",
     "output_type": "stream",
     "text": [
      "sneha\n",
      "20\n"
     ]
    }
   ],
   "source": [
    "p2=person()\n",
    "print(p2.name)           #Print the default value\n",
    "print(p2.age)"
   ]
  },
  {
   "cell_type": "markdown",
   "id": "6c03f2fa",
   "metadata": {},
   "source": [
    "## Methods"
   ]
  },
  {
   "cell_type": "code",
   "execution_count": 34,
   "id": "b5587d31",
   "metadata": {},
   "outputs": [
    {
     "name": "stdout",
     "output_type": "stream",
     "text": [
      "Hello\n",
      "Hi\n",
      "0\n",
      "60\n",
      "[2, 6, 12, 20]\n"
     ]
    }
   ],
   "source": [
    "class mathematics:\n",
    "    \n",
    "    def greet(self):\n",
    "        print('Hello')\n",
    "        return 'Hi'\n",
    "    \n",
    "    def factorial(self,n):\n",
    "        s=1\n",
    "        for i in range(n+1):\n",
    "            s*=i\n",
    "        return s\n",
    "    def lst_mul(self,lst):\n",
    "        s=1\n",
    "        for i in lst:\n",
    "            s*=i\n",
    "        return s\n",
    "    \n",
    "    def lst_dot(self,lst_1, lst_2):\n",
    "        return [lst_1[i]*lst_2[i] for i in range(len(lst_1))]\n",
    "    \n",
    "math=mathematics()\n",
    "print(math.greet())\n",
    "\n",
    "print(math.factorial(5))\n",
    "\n",
    "print(math.lst_mul([3,4,5]))\n",
    "\n",
    "print(math.lst_dot([1,2,3,4],[2,3,4,5]))"
   ]
  },
  {
   "cell_type": "code",
   "execution_count": null,
   "id": "37ab2063",
   "metadata": {},
   "outputs": [],
   "source": []
  }
 ],
 "metadata": {
  "kernelspec": {
   "display_name": "Python 3 (ipykernel)",
   "language": "python",
   "name": "python3"
  },
  "language_info": {
   "codemirror_mode": {
    "name": "ipython",
    "version": 3
   },
   "file_extension": ".py",
   "mimetype": "text/x-python",
   "name": "python",
   "nbconvert_exporter": "python",
   "pygments_lexer": "ipython3",
   "version": "3.11.5"
  }
 },
 "nbformat": 4,
 "nbformat_minor": 5
}
