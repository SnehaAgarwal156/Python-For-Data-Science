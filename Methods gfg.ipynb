{
 "cells": [
  {
   "cell_type": "code",
   "execution_count": 9,
   "id": "41f40b4a",
   "metadata": {},
   "outputs": [
    {
     "name": "stdout",
     "output_type": "stream",
     "text": [
      "Sneha\n",
      "Sneha\n",
      "Sneha\n",
      "Sneha\n",
      "None\n"
     ]
    }
   ],
   "source": [
    "class person:\n",
    "    \n",
    "    def __init__(self):             #Automatically revoked\n",
    "        print('Sneha')\n",
    "    \n",
    "    def run(self):\n",
    "        print('run!')\n",
    "    \n",
    "p1=person()\n",
    "p2=person()\n",
    "p3=person()\n",
    "print(p3.__init__())"
   ]
  },
  {
   "cell_type": "code",
   "execution_count": 10,
   "id": "00973548",
   "metadata": {},
   "outputs": [
    {
     "name": "stdout",
     "output_type": "stream",
     "text": [
      "Sneha\n",
      "run!\n",
      "None\n"
     ]
    }
   ],
   "source": [
    "class person:\n",
    "    \n",
    "    def __init__(self):             #Automatically revoked\n",
    "        print('Sneha')\n",
    "    \n",
    "    def run(self):\n",
    "        print('run!')\n",
    "    \n",
    "p1=person()\n",
    "print(p1.run())"
   ]
  },
  {
   "cell_type": "code",
   "execution_count": 27,
   "id": "1514a2e2",
   "metadata": {},
   "outputs": [
    {
     "name": "stdout",
     "output_type": "stream",
     "text": [
      "Welcome to the game\n",
      "Current Health of Sneha is 100\n",
      "Name    : Sneha\n",
      "Age     : 20\n",
      "Health  : 40\n",
      "Alive  : True\n",
      "--------------------\n",
      "Welcome to the game\n",
      "Current Health of Raj is 100\n",
      "Name    : Raj\n",
      "Age     : 21\n",
      "Health  : 0\n",
      "Alive  : True\n"
     ]
    }
   ],
   "source": [
    "class agent:\n",
    "    def __init__(self, name, age):\n",
    "        print('Welcome to the game')\n",
    "        self.name=name\n",
    "        self.age=age\n",
    "        self.health=100\n",
    "        self.alive=True\n",
    "        \n",
    "    def current_health(self):\n",
    "        print('Current Health of', self.name, 'is', self.health)\n",
    "        \n",
    "    def punched(self):\n",
    "        self.health-=10\n",
    "    \n",
    "    def shooted(self):\n",
    "        self.health-=50\n",
    "        \n",
    "    def is_alive(self):\n",
    "        if self.health<=0:\n",
    "            alive=False\n",
    "    \n",
    "    def info(self):\n",
    "        print('Name    :',self.name)\n",
    "        print('Age     :',self.age)\n",
    "        print('Health  :',self.health)\n",
    "        print('Alive  :',self.alive)\n",
    "        \n",
    "p1=agent('Sneha',20)\n",
    "p1.current_health()\n",
    "p1.punched()\n",
    "p1.shooted()\n",
    "p1.info()\n",
    "\n",
    "print('-'*20)\n",
    "\n",
    "p2=agent('Raj',21)\n",
    "p2.current_health()\n",
    "p2.shooted()\n",
    "p2.shooted()\n",
    "p2.info()"
   ]
  },
  {
   "cell_type": "code",
   "execution_count": 28,
   "id": "11a4d2e1",
   "metadata": {},
   "outputs": [],
   "source": [
    "#Inheritance"
   ]
  },
  {
   "cell_type": "code",
   "execution_count": 36,
   "id": "36fcc841",
   "metadata": {},
   "outputs": [
    {
     "name": "stdout",
     "output_type": "stream",
     "text": [
      "Welcome to the game\n",
      "Name    : krishiv\n",
      "Age     : 1000\n",
      "Health  : 100\n",
      "Alive  : True\n",
      "blow fire!\n"
     ]
    }
   ],
   "source": [
    "class boss(agent):\n",
    "    def blow_fire(self):\n",
    "        print('blow fire!')\n",
    "bs=boss('krishiv',1000)\n",
    "bs.info()\n",
    "bs.blow_fire()"
   ]
  },
  {
   "cell_type": "code",
   "execution_count": null,
   "id": "de6ac39b",
   "metadata": {},
   "outputs": [],
   "source": []
  }
 ],
 "metadata": {
  "kernelspec": {
   "display_name": "Python 3 (ipykernel)",
   "language": "python",
   "name": "python3"
  },
  "language_info": {
   "codemirror_mode": {
    "name": "ipython",
    "version": 3
   },
   "file_extension": ".py",
   "mimetype": "text/x-python",
   "name": "python",
   "nbconvert_exporter": "python",
   "pygments_lexer": "ipython3",
   "version": "3.11.5"
  }
 },
 "nbformat": 4,
 "nbformat_minor": 5
}
